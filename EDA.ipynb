{
 "cells": [
  {
   "cell_type": "markdown",
   "metadata": {},
   "source": [
    "# Analyse Exploratoire du jeu de Données `les arbres` de la ville de Paris\n",
    "(les liens ne fonctionnent pas lorsque le notebook est affiché sur Github)\n",
    "\n",
    "* [1. Objectif du projet](#P01)\n",
    "    * [Les actions à optimiser](#P01_actions)\n",
    "* [2. Présentation générale du jeu de données](#P02)\n",
    "    * [Les variables](#P02_variables)\n",
    "* [3. Démarche méthodologique d’analyse de données](#P03)\n",
    "    * [Objectif](#P03_Objectif)\n",
    "* [4. Synthèse de l'analyse de données](#P04)"
   ]
  },
  {
   "cell_type": "markdown",
   "metadata": {},
   "source": [
    "# 1. Objectif du projet <a class=\"anchor\" id=\"P01\"></a>\n",
    "l'optimisation des tournées pour l’entretien des arbres de la ville. "
   ]
  },
  {
   "cell_type": "markdown",
   "metadata": {},
   "source": [
    "## Les différentes actions de l'entretien du parc parisien <a class=\"anchor\" id=\"P01_actions\"></a>\n",
    "\n",
    "Afin d'optimiser les tournées pour l'entretien des arbres de la ville, il convient de déterminer les différentes actions que le personnelle est ammené à entreprendre et si possible leur fréquence.\n",
    "\n",
    "### L'arrosage\n",
    "\n",
    "> **Arrosage de croissance** Une fois planté, l'arbre reçoit des soins pendant 3 ans pour garantir une bonne reprise et un développement harmonieux : il est arrosé régulièrement (environ 100 litres d’eau tous les 15 jours de mars à septembre). Après ces 3 premières années, l’arbre en pleine croissance (sauf exception) ne nécessite plus de soin particulier.\n",
    "\n",
    "\n",
    "### Le suivi et diagnostic\n",
    "Pour détecter les arbres morts, dépérissant et dangereux ou même leurs éventuels problèmes de santé (champignons, insectes, tassement de la terre, lésions sur le tronc etc.) chacun d'entre eux est contrôlé au moins une fois par an.\n",
    "> **Le contrôle annuel.** Un diganostic visuel est réalisé à l’occasion des campagnes annuelles de surveillance phytosanitaires. (Tous les arbres sont inspectés chaque année, mais seuls 20 % d’entre eux font l’objet d’un relevé phytosanitaire détaillé).\n",
    "\n",
    "> **Le contrôle d'entretien.** Un diagnostic visuel est réalisé lors de chaque intervention d’entretien.\n",
    "\n",
    "> **Le controle interne.** Des expertises sont pratiquées à l’aide d’outils de détection des défauts internes du bois.\n",
    "\n",
    "> **Le contrôle des tuteurs.** Pour les arbres de moins de 3 ans, un tuteur est installé pour lui assurer une bonne stabilité le temps que les racines d’ancrages soient suffisamment développées. Il faut donc en vérifier le positionnement et la bonne dimension à interval régulier.\n",
    "\n",
    "\n",
    "### La taille (ou élagage)\n",
    "Un arbre sain et adapté au site ne devrait pas nécessiter de taille, mais le contexte urbain impose des contraintes qui peuvent y pousser. Voici les différents types de taille appliquées sur le parc Parisien:\n",
    "\n",
    "> **La taille de formation.** Réalisée sur les jeunes arbres, la taille de formation vise à les adapter aux futures contraintes de la culture en ville, notamment le passage des véhicules et des piétons sous son houppier. Cette opération précoce est réalisée sans grosses blessures (qui constitueraient des points de fragilité et d'entrée de maladies).\n",
    "\n",
    "> **La taille « raisonnée » des arbres adultes.** La taille « raisonnée » consiste à réduire le volume du houppier par élimination de branches et de bois mort. Elle est réalisée sur un faible volume en prenant soin de limiter la coupe des grosses branches pour respecter la biologie de l’arbre et minimiser le risque de prolifération des maladies.\n",
    "\n",
    "> **La taille architecturée dite « en plateau-rideau ».** Elle maintient les arbres dans des formes géométriques qui soulignent les perspectives de sites historiques (tels le Champ de Mars, la place des Vosges). Elle s’effectue par tailles légères et répétées sur de faibles sections en périphérie du houppier.\n",
    "\n",
    "> **La taille de réduction.** Cette taille est nécessaire en ville pour contrôler le volume et la hauteur d’arbres poussant très près des façades. \n",
    "\n",
    "Chacune de ces méthodes va nécessiter des équipes et équipements sensiblement différents. Donc il convient d'organiser les tournées pour s'occuper d'un type de taille à la fois. Dans ce contexte, il est intéressant de pouvoir distinguer les arbres en fonction de divers critères (hauteur, essence, domanialité...).\n",
    "\n",
    "### L'abatagge\n",
    "Le remplacement des arbres morts, dangereux ou dépérissant constitue une mission essentielle de la Ville pour préserver la canopée parisienne. Moins de 1,5 % des arbres doivent être abattus chaque année.\n",
    "\n",
    "> **L'abattage anticipé.** L'espérance de vie de certains abres sont connues à l'avance et leur remplacement peut donc être anticipé. Par exemple, les arbres plantés le long des rues dépassent rarement 80 ans (Ils peuvent contracter des maladies, être blessés (au niveau des racines, du tronc ou du houppier) ou décliner.\n",
    "\n",
    "> **L'abattage non-anticipé.** Pour les mêmes raisons qu'évoqué ci-dessus, on peut être ammené à abattre un arbre qui présente un danger, alors même qu'il ne se trouvait pas dans un contexte qui permettait de l'anticiper.\n",
    "\n",
    "Selon la taille de l'arbre les outils utilisés ne sont probablement pas les même. Outre la coupe du tronc, l'arachage de la souche peut être un véritable défit. Certaines espèces développement des raçines particulièrement profondes ou étendues et on considère en général que la taille du système racinaire est équivalent à celui du houppier. Ainsi, les outils nécessaires pour retirer la souche d'un jeune abre ne sont probablement pas les mêmes que ceux nécessaires pour retirer la souche d'un abre qui faisait 15m de haut.\n",
    "\n",
    "\n",
    "### Le (re)plantage\n",
    "Le parc végétal de Paris doit être renouvellé (lorsqu'un arbre est abattu) et étendu pour répondre aux nouveaux objectifs de la Ville et de ses habitants.\n",
    "\n",
    "> **La fosse de plantation.** Avant de (re)planter un arbre, il faut préparer un espace suffisant pour son futur développement. Le volume de la fosse de plantation est d’environ 12 mètres cubes pour permettre un développement satisfaisant du système racinaire et une alimentation en eau et en éléments nutritifs appropriées à sa croissance. \n",
    "\n",
    "> **Le replantage.** Moins de 1,5 % des arbres doivent être abattus chaque année. De jeunes arbres issus des pépinières de la Ville de Paris sont systématiquement replantés.\n",
    "\n",
    "> **Le plantage.** De nouveaux arbres sont plantés dans les 30 ha de nouveaux parcs, jardins et squares. Par ailleurs, les zones existantes sont également sujettes à la plantation de nouveaux arbres pour densifier ou étendre l'existant.\n",
    "\n",
    "> **La diversification.** Les espèce des arbres sont choisies en fonction du contexte de (re)plantage afin d'améliorer la résistante aux insectes et aux champignons mais aussi pour prendre en compte le réchauffement climatique.\n",
    "\n",
    "> **Les essences régionales.** Pour permettre le développement de la faune local (oiseaux, abeilles, ...), on favorise autant que possible (tout en considérent le besoin de diversification) les espèces d'arbres issues de la région île de France.\n",
    "\n",
    "Dans tous les cas, une fois planté l'arbre doit recevoir des soins pendant 3 ans pour garantir une bonne reprise et un développement harmonieux\n"
   ]
  },
  {
   "cell_type": "markdown",
   "metadata": {},
   "source": [
    "#### Importons quelques librairies utile pour ce notebook.\n",
    "- Pandas et numpy pour faciliter les manipulations du jeu de données\n",
    "- Matplotlib et Seaborn (une sur-couche de Matplotlib) pour les graphiques"
   ]
  },
  {
   "cell_type": "code",
   "execution_count": 1,
   "metadata": {},
   "outputs": [],
   "source": [
    "import pandas as pd\n",
    "import numpy as np\n",
    "import matplotlib.pyplot as plt\n",
    "import seaborn as sns"
   ]
  },
  {
   "cell_type": "markdown",
   "metadata": {},
   "source": [
    "# 2. Présentation générale du jeu de données <a class=\"anchor\" id=\"P02\"></a>\n",
    "\n",
    "Le [jeu de données](https://opendata.paris.fr/explore/dataset/les-arbres/information/?disjunctive.typeemplacement&disjunctive.arrondissement&disjunctive.libellefrancais&disjunctive.genre&disjunctive.espece&disjunctive.varieteoucultivar&disjunctive.stadedeveloppement&disjunctive.remarquable&dataChart=eyJxdWVyaWVzIjpbeyJjb25maWciOnsiZGF0YXNldCI6Imxlcy1hcmJyZXMiLCJvcHRpb25zIjp7ImRpc2p1bmN0aXZlLnR5cGVlbXBsYWNlbWVudCI6dHJ1ZSwiZGlzanVuY3RpdmUuYXJyb25kaXNzZW1lbnQiOnRydWUsImRpc2p1bmN0aXZlLmxpYmVsbGVmcmFuY2FpcyI6dHJ1ZSwiZGlzanVuY3RpdmUuZ2VucmUiOnRydWUsImRpc2p1bmN0aXZlLmVzcGVjZSI6dHJ1ZSwiZGlzanVuY3RpdmUudmFyaWV0ZW91Y3VsdGl2YXIiOnRydWUsImRpc2p1bmN0aXZlLnN0YWRlZGV2ZWxvcHBlbWVudCI6dHJ1ZSwiZGlzanVuY3RpdmUucmVtYXJxdWFibGUiOnRydWUsImJhc2VtYXAiOiJqYXdnLnN0cmVldHMiLCJsb2NhdGlvbiI6IjEzLDQ4Ljg2ODQ0LDIuMzA5NDUifX0sImNoYXJ0cyI6W3siYWxpZ25Nb250aCI6dHJ1ZSwidHlwZSI6ImNvbHVtbiIsImZ1bmMiOiJBVkciLCJ5QXhpcyI6ImlkYmFzZSIsInNjaWVudGlmaWNEaXNwbGF5Ijp0cnVlLCJjb2xvciI6IiMwMDMzNjYifV0sInhBeGlzIjoidHlwZWVtcGxhY2VtZW50IiwibWF4cG9pbnRzIjo1MCwic29ydCI6IiJ9XSwidGltZXNjYWxlIjoiIiwiZGlzcGxheUxlZ2VuZCI6dHJ1ZSwiYWxpZ25Nb250aCI6dHJ1ZX0%3D&location=11,48.84054,2.43622&basemap=jawg.streets) utilisé dans le cadre du programme **“Végétalisons la ville”** est une liste des arbres relevant de la ville de Paris.\n",
    "\n",
    "Chacun des arbre référencé est décrit par un certain nombre de caractèristiques *(hauteur, circonférence, variété, espèce, genre)*<br>et est précisement localisable *(coordonnées GPS, addresse, repères...)* dans l'espace Parisien.\n",
    "\n",
    "Ce jeu de données inclut les arbres d’alignement (dans les rues), ceux des espaces verts et des équipements publics municipaux.<br>Mais il n’inclut pas les bosquets, les ensembles forestiers, les arbres du domaine privé etc.\n",
    "\n",
    "---\n",
    "#### Commençons par importer et explorer simplement ce jeu de données pour nous faire une idée de ce qu'il contient."
   ]
  },
  {
   "cell_type": "code",
   "execution_count": 2,
   "metadata": {},
   "outputs": [],
   "source": [
    "data = pd.read_csv('data/p2-arbres-fr.csv', sep=';')"
   ]
  },
  {
   "cell_type": "code",
   "execution_count": 3,
   "metadata": {},
   "outputs": [
    {
     "data": {
      "text/html": [
       "<div>\n",
       "<style scoped>\n",
       "    .dataframe tbody tr th:only-of-type {\n",
       "        vertical-align: middle;\n",
       "    }\n",
       "\n",
       "    .dataframe tbody tr th {\n",
       "        vertical-align: top;\n",
       "    }\n",
       "\n",
       "    .dataframe thead th {\n",
       "        text-align: right;\n",
       "    }\n",
       "</style>\n",
       "<table border=\"1\" class=\"dataframe\">\n",
       "  <thead>\n",
       "    <tr style=\"text-align: right;\">\n",
       "      <th></th>\n",
       "      <th>id</th>\n",
       "      <th>type_emplacement</th>\n",
       "      <th>domanialite</th>\n",
       "      <th>arrondissement</th>\n",
       "      <th>complement_addresse</th>\n",
       "      <th>numero</th>\n",
       "      <th>lieu</th>\n",
       "      <th>id_emplacement</th>\n",
       "      <th>libelle_francais</th>\n",
       "      <th>genre</th>\n",
       "      <th>espece</th>\n",
       "      <th>variete</th>\n",
       "      <th>circonference_cm</th>\n",
       "      <th>hauteur_m</th>\n",
       "      <th>stade_developpement</th>\n",
       "      <th>remarquable</th>\n",
       "      <th>geo_point_2d_a</th>\n",
       "      <th>geo_point_2d_b</th>\n",
       "    </tr>\n",
       "  </thead>\n",
       "  <tbody>\n",
       "    <tr>\n",
       "      <th>0</th>\n",
       "      <td>99874</td>\n",
       "      <td>Arbre</td>\n",
       "      <td>Jardin</td>\n",
       "      <td>PARIS 7E ARRDT</td>\n",
       "      <td>NaN</td>\n",
       "      <td>NaN</td>\n",
       "      <td>MAIRIE DU 7E 116 RUE DE GRENELLE PARIS 7E</td>\n",
       "      <td>19</td>\n",
       "      <td>Marronnier</td>\n",
       "      <td>Aesculus</td>\n",
       "      <td>hippocastanum</td>\n",
       "      <td>NaN</td>\n",
       "      <td>20</td>\n",
       "      <td>5</td>\n",
       "      <td>NaN</td>\n",
       "      <td>0.0</td>\n",
       "      <td>48.857620</td>\n",
       "      <td>2.320962</td>\n",
       "    </tr>\n",
       "    <tr>\n",
       "      <th>1</th>\n",
       "      <td>99875</td>\n",
       "      <td>Arbre</td>\n",
       "      <td>Jardin</td>\n",
       "      <td>PARIS 7E ARRDT</td>\n",
       "      <td>NaN</td>\n",
       "      <td>NaN</td>\n",
       "      <td>MAIRIE DU 7E 116 RUE DE GRENELLE PARIS 7E</td>\n",
       "      <td>20</td>\n",
       "      <td>If</td>\n",
       "      <td>Taxus</td>\n",
       "      <td>baccata</td>\n",
       "      <td>NaN</td>\n",
       "      <td>65</td>\n",
       "      <td>8</td>\n",
       "      <td>A</td>\n",
       "      <td>NaN</td>\n",
       "      <td>48.857656</td>\n",
       "      <td>2.321031</td>\n",
       "    </tr>\n",
       "    <tr>\n",
       "      <th>2</th>\n",
       "      <td>99876</td>\n",
       "      <td>Arbre</td>\n",
       "      <td>Jardin</td>\n",
       "      <td>PARIS 7E ARRDT</td>\n",
       "      <td>NaN</td>\n",
       "      <td>NaN</td>\n",
       "      <td>MAIRIE DU 7E 116 RUE DE GRENELLE PARIS 7E</td>\n",
       "      <td>21</td>\n",
       "      <td>If</td>\n",
       "      <td>Taxus</td>\n",
       "      <td>baccata</td>\n",
       "      <td>NaN</td>\n",
       "      <td>90</td>\n",
       "      <td>10</td>\n",
       "      <td>A</td>\n",
       "      <td>NaN</td>\n",
       "      <td>48.857705</td>\n",
       "      <td>2.321061</td>\n",
       "    </tr>\n",
       "  </tbody>\n",
       "</table>\n",
       "</div>"
      ],
      "text/plain": [
       "      id type_emplacement domanialite  arrondissement complement_addresse  \\\n",
       "0  99874            Arbre      Jardin  PARIS 7E ARRDT                 NaN   \n",
       "1  99875            Arbre      Jardin  PARIS 7E ARRDT                 NaN   \n",
       "2  99876            Arbre      Jardin  PARIS 7E ARRDT                 NaN   \n",
       "\n",
       "   numero                                       lieu id_emplacement  \\\n",
       "0     NaN  MAIRIE DU 7E 116 RUE DE GRENELLE PARIS 7E             19   \n",
       "1     NaN  MAIRIE DU 7E 116 RUE DE GRENELLE PARIS 7E             20   \n",
       "2     NaN  MAIRIE DU 7E 116 RUE DE GRENELLE PARIS 7E             21   \n",
       "\n",
       "  libelle_francais     genre         espece variete  circonference_cm  \\\n",
       "0       Marronnier  Aesculus  hippocastanum     NaN                20   \n",
       "1               If     Taxus        baccata     NaN                65   \n",
       "2               If     Taxus        baccata     NaN                90   \n",
       "\n",
       "   hauteur_m stade_developpement  remarquable  geo_point_2d_a  geo_point_2d_b  \n",
       "0          5                 NaN          0.0       48.857620        2.320962  \n",
       "1          8                   A          NaN       48.857656        2.321031  \n",
       "2         10                   A          NaN       48.857705        2.321061  "
      ]
     },
     "execution_count": 3,
     "metadata": {},
     "output_type": "execute_result"
    }
   ],
   "source": [
    "data.head(3)"
   ]
  },
  {
   "cell_type": "code",
   "execution_count": 4,
   "metadata": {},
   "outputs": [
    {
     "name": "stdout",
     "output_type": "stream",
     "text": [
      "<class 'pandas.core.frame.DataFrame'>\n",
      "RangeIndex: 200137 entries, 0 to 200136\n",
      "Data columns (total 18 columns):\n",
      " #   Column               Non-Null Count   Dtype  \n",
      "---  ------               --------------   -----  \n",
      " 0   id                   200137 non-null  int64  \n",
      " 1   type_emplacement     200137 non-null  object \n",
      " 2   domanialite          200136 non-null  object \n",
      " 3   arrondissement       200137 non-null  object \n",
      " 4   complement_addresse  30902 non-null   object \n",
      " 5   numero               0 non-null       float64\n",
      " 6   lieu                 200137 non-null  object \n",
      " 7   id_emplacement       200137 non-null  object \n",
      " 8   libelle_francais     198640 non-null  object \n",
      " 9   genre                200121 non-null  object \n",
      " 10  espece               198385 non-null  object \n",
      " 11  variete              36777 non-null   object \n",
      " 12  circonference_cm     200137 non-null  int64  \n",
      " 13  hauteur_m            200137 non-null  int64  \n",
      " 14  stade_developpement  132932 non-null  object \n",
      " 15  remarquable          137039 non-null  float64\n",
      " 16  geo_point_2d_a       200137 non-null  float64\n",
      " 17  geo_point_2d_b       200137 non-null  float64\n",
      "dtypes: float64(4), int64(3), object(11)\n",
      "memory usage: 27.5+ MB\n"
     ]
    }
   ],
   "source": [
    "data.info()"
   ]
  },
  {
   "cell_type": "markdown",
   "metadata": {},
   "source": [
    "> On constate que ce jeu de donnée est composé de 18 variables (colonnes) pour 200137 individus (lignes)."
   ]
  },
  {
   "cell_type": "markdown",
   "metadata": {},
   "source": [
    "# Les variables<a class=\"anchor\" id=\"P02_variables\"></a>\n",
    "\n",
    "Elles ne sont pas décrites sur l'espace Opendata dédié à ce [jeu de données](https://opendata.paris.fr/explore/dataset/les-arbres/information/?disjunctive.typeemplacement&disjunctive.arrondissement&disjunctive.libellefrancais&disjunctive.genre&disjunctive.espece&disjunctive.varieteoucultivar&disjunctive.stadedeveloppement&disjunctive.remarquable&dataChart=eyJxdWVyaWVzIjpbeyJjb25maWciOnsiZGF0YXNldCI6Imxlcy1hcmJyZXMiLCJvcHRpb25zIjp7ImRpc2p1bmN0aXZlLnR5cGVlbXBsYWNlbWVudCI6dHJ1ZSwiZGlzanVuY3RpdmUuYXJyb25kaXNzZW1lbnQiOnRydWUsImRpc2p1bmN0aXZlLmxpYmVsbGVmcmFuY2FpcyI6dHJ1ZSwiZGlzanVuY3RpdmUuZ2VucmUiOnRydWUsImRpc2p1bmN0aXZlLmVzcGVjZSI6dHJ1ZSwiZGlzanVuY3RpdmUudmFyaWV0ZW91Y3VsdGl2YXIiOnRydWUsImRpc2p1bmN0aXZlLnN0YWRlZGV2ZWxvcHBlbWVudCI6dHJ1ZSwiZGlzanVuY3RpdmUucmVtYXJxdWFibGUiOnRydWUsImJhc2VtYXAiOiJqYXdnLnN0cmVldHMiLCJsb2NhdGlvbiI6IjEzLDQ4Ljg2ODQ0LDIuMzA5NDUifX0sImNoYXJ0cyI6W3siYWxpZ25Nb250aCI6dHJ1ZSwidHlwZSI6ImNvbHVtbiIsImZ1bmMiOiJBVkciLCJ5QXhpcyI6ImlkYmFzZSIsInNjaWVudGlmaWNEaXNwbGF5Ijp0cnVlLCJjb2xvciI6IiMwMDMzNjYifV0sInhBeGlzIjoidHlwZWVtcGxhY2VtZW50IiwibWF4cG9pbnRzIjo1MCwic29ydCI6IiJ9XSwidGltZXNjYWxlIjoiIiwiZGlzcGxheUxlZ2VuZCI6dHJ1ZSwiYWxpZ25Nb250aCI6dHJ1ZX0%3D&location=11,48.84054,2.43622&basemap=jawg.streets) *(il y a juste les types)*. Mais on peut déduire leur rôle en se basant sur leur nom, en explorant leur contenu et en se référent à des ressources exterieurs d'aide à la compréhension métier comme l'article de la Mairie de Paris: [L'arbre à Paris](https://www.paris.fr/pages/l-arbre-a-paris-199).\n",
    "\n",
    "---\n",
    "#### Analysons donc ces variables une par une pour en comprendre le sens et les éventuels problèmes qu'elles posent."
   ]
  },
  {
   "cell_type": "markdown",
   "metadata": {},
   "source": [
    "## `id`"
   ]
  },
  {
   "cell_type": "code",
   "execution_count": 5,
   "metadata": {},
   "outputs": [
    {
     "data": {
      "text/plain": [
       "count    200137\n",
       "mean     387203\n",
       "std      545603\n",
       "min       99874\n",
       "25%      155927\n",
       "50%      221078\n",
       "75%      274102\n",
       "max     2024745\n",
       "Name: id, dtype: float64"
      ]
     },
     "execution_count": 5,
     "metadata": {},
     "output_type": "execute_result"
    }
   ],
   "source": [
    "pd.set_option('float_format', '{:.0f}'.format)\n",
    "data['id'].describe()"
   ]
  },
  {
   "cell_type": "code",
   "execution_count": 6,
   "metadata": {},
   "outputs": [
    {
     "data": {
      "text/plain": [
       "200137"
      ]
     },
     "execution_count": 6,
     "metadata": {},
     "output_type": "execute_result"
    }
   ],
   "source": [
    "data['id'].nunique()"
   ]
  },
  {
   "cell_type": "code",
   "execution_count": 7,
   "metadata": {},
   "outputs": [
    {
     "data": {
      "text/plain": [
       "0"
      ]
     },
     "execution_count": 7,
     "metadata": {},
     "output_type": "execute_result"
    }
   ],
   "source": [
    "data['id'].isnull().sum()"
   ]
  },
  {
   "cell_type": "markdown",
   "metadata": {},
   "source": [
    "On constate que c'est une liste d'entier numérique et qu'il y a **autant d'id que de lignes dans le jeu de donnée**.\n",
    "\n",
    "Par ailleurs, les valeurs vont de 99874 à 2024745, donc elles ne commencent pas à 0 et ne se suivent pas nécessairement.\n",
    "\n",
    "\n",
    "> **id:** [int] > **[int64]**<br>\n",
    "l'identifiant de l'arbre dans le jeu de donnée.<br>\n",
    "A ne pas confondre avec l'index du DataFrame Pandas.\n",
    "\n",
    "> `Recommandation:` ne pas prendre en compte cette colonne dans l'analyse.\n",
    "\n",
    "---"
   ]
  },
  {
   "cell_type": "markdown",
   "metadata": {},
   "source": [
    "## `type_emplacement`"
   ]
  },
  {
   "cell_type": "code",
   "execution_count": 8,
   "metadata": {},
   "outputs": [
    {
     "data": {
      "text/plain": [
       "count     200137\n",
       "unique         1\n",
       "top        Arbre\n",
       "freq      200137\n",
       "Name: type_emplacement, dtype: object"
      ]
     },
     "execution_count": 8,
     "metadata": {},
     "output_type": "execute_result"
    }
   ],
   "source": [
    "data['type_emplacement'].describe()"
   ]
  },
  {
   "cell_type": "code",
   "execution_count": 9,
   "metadata": {},
   "outputs": [
    {
     "data": {
      "text/plain": [
       "array(['Arbre'], dtype=object)"
      ]
     },
     "execution_count": 9,
     "metadata": {},
     "output_type": "execute_result"
    }
   ],
   "source": [
    "data['type_emplacement'].unique()"
   ]
  },
  {
   "cell_type": "markdown",
   "metadata": {},
   "source": [
    "Cette colonne ne contient qu'**une unique valeur 'Arbre'**.\n",
    "\n",
    "On peut supposer que ce jeu de données est issu d'un autre jeu de données contenant davantages de types de plantes. Peut-être les espaces pour les buissons, pour les fleurs, etc.\n",
    "\n",
    "> **type_emplacement:** [text] > **[object]**<br>\n",
    "le type de plante dans un plus gros jeu de données.<br>\n",
    "Elle ne présente donc aucune utilité dans l'état actuel.\n",
    "\n",
    "> `Recommandation:` supprimer la colonne.\n",
    "\n",
    "---"
   ]
  },
  {
   "cell_type": "markdown",
   "metadata": {},
   "source": [
    "## `domanialite`"
   ]
  },
  {
   "cell_type": "code",
   "execution_count": 10,
   "metadata": {},
   "outputs": [
    {
     "data": {
      "text/plain": [
       "count         200136\n",
       "unique             9\n",
       "top       Alignement\n",
       "freq          104949\n",
       "Name: domanialite, dtype: object"
      ]
     },
     "execution_count": 10,
     "metadata": {},
     "output_type": "execute_result"
    }
   ],
   "source": [
    "data['domanialite'].describe()"
   ]
  },
  {
   "cell_type": "code",
   "execution_count": 11,
   "metadata": {},
   "outputs": [
    {
     "data": {
      "text/plain": [
       "array(['Jardin', 'Alignement', 'DJS', 'DFPE', 'CIMETIERE', 'DASCO', 'DAC',\n",
       "       'PERIPHERIQUE', 'DASES', nan], dtype=object)"
      ]
     },
     "execution_count": 11,
     "metadata": {},
     "output_type": "execute_result"
    }
   ],
   "source": [
    "data['domanialite'].unique()"
   ]
  },
  {
   "cell_type": "markdown",
   "metadata": {},
   "source": [
    "La pluspart de ces domaines sont facile à identifier. Et pour ceux qui le sont moins on trouve facilement à quoi ils correspondent en cherchant sur internet:\n",
    "- DFPE - Direction des Familles et de la Petite Enfance\n",
    "- DJS - Direction de la Jeunesse et des Sports\n",
    "- DASCO - Direction des Affaires Scolaires\n",
    "- DAC - Direction des Affaires Culturelles\n",
    "\n",
    "On note par ailleurs que certaines lignes ont `nan` pour valeur .\n",
    "#### Explorons donc plus avant pour savoir ce que ce(s) `nan` représente(nt)."
   ]
  },
  {
   "cell_type": "code",
   "execution_count": 49,
   "metadata": {},
   "outputs": [
    {
     "data": {
      "text/plain": [
       "1"
      ]
     },
     "execution_count": 49,
     "metadata": {},
     "output_type": "execute_result"
    }
   ],
   "source": [
    "data['domanialite'].isnull().sum()"
   ]
  },
  {
   "cell_type": "code",
   "execution_count": 12,
   "metadata": {},
   "outputs": [
    {
     "data": {
      "text/html": [
       "<div>\n",
       "<style scoped>\n",
       "    .dataframe tbody tr th:only-of-type {\n",
       "        vertical-align: middle;\n",
       "    }\n",
       "\n",
       "    .dataframe tbody tr th {\n",
       "        vertical-align: top;\n",
       "    }\n",
       "\n",
       "    .dataframe thead th {\n",
       "        text-align: right;\n",
       "    }\n",
       "</style>\n",
       "<table border=\"1\" class=\"dataframe\">\n",
       "  <thead>\n",
       "    <tr style=\"text-align: right;\">\n",
       "      <th></th>\n",
       "      <th>id</th>\n",
       "      <th>type_emplacement</th>\n",
       "      <th>domanialite</th>\n",
       "      <th>arrondissement</th>\n",
       "      <th>complement_addresse</th>\n",
       "      <th>numero</th>\n",
       "      <th>lieu</th>\n",
       "      <th>id_emplacement</th>\n",
       "      <th>libelle_francais</th>\n",
       "      <th>genre</th>\n",
       "      <th>espece</th>\n",
       "      <th>variete</th>\n",
       "      <th>circonference_cm</th>\n",
       "      <th>hauteur_m</th>\n",
       "      <th>stade_developpement</th>\n",
       "      <th>remarquable</th>\n",
       "      <th>geo_point_2d_a</th>\n",
       "      <th>geo_point_2d_b</th>\n",
       "    </tr>\n",
       "  </thead>\n",
       "  <tbody>\n",
       "    <tr>\n",
       "      <th>197239</th>\n",
       "      <td>2020911</td>\n",
       "      <td>Arbre</td>\n",
       "      <td>NaN</td>\n",
       "      <td>PARIS 20E ARRDT</td>\n",
       "      <td>NaN</td>\n",
       "      <td>NaN</td>\n",
       "      <td>JARDINS D IMMEUBLES PORTE DE VINCENNES NORD / ...</td>\n",
       "      <td>203006</td>\n",
       "      <td>Chimonanthe</td>\n",
       "      <td>Chimonanthus</td>\n",
       "      <td>praecox</td>\n",
       "      <td>NaN</td>\n",
       "      <td>35</td>\n",
       "      <td>4</td>\n",
       "      <td>JA</td>\n",
       "      <td>0</td>\n",
       "      <td>49</td>\n",
       "      <td>2</td>\n",
       "    </tr>\n",
       "  </tbody>\n",
       "</table>\n",
       "</div>"
      ],
      "text/plain": [
       "             id type_emplacement domanialite   arrondissement  \\\n",
       "197239  2020911            Arbre         NaN  PARIS 20E ARRDT   \n",
       "\n",
       "       complement_addresse  numero  \\\n",
       "197239                 NaN     NaN   \n",
       "\n",
       "                                                     lieu id_emplacement  \\\n",
       "197239  JARDINS D IMMEUBLES PORTE DE VINCENNES NORD / ...         203006   \n",
       "\n",
       "       libelle_francais         genre   espece variete  circonference_cm  \\\n",
       "197239      Chimonanthe  Chimonanthus  praecox     NaN                35   \n",
       "\n",
       "        hauteur_m stade_developpement  remarquable  geo_point_2d_a  \\\n",
       "197239          4                  JA            0              49   \n",
       "\n",
       "        geo_point_2d_b  \n",
       "197239               2  "
      ]
     },
     "execution_count": 12,
     "metadata": {},
     "output_type": "execute_result"
    }
   ],
   "source": [
    "data[ data['domanialite'].isnull() ]"
   ]
  },
  {
   "cell_type": "markdown",
   "metadata": {},
   "source": [
    "C'est visiblement un problème isolé (il n'y a qu'un seul `nan`) qui doit être un oubli.\n",
    "\n",
    "#### Ensuite, voyons comment les arbres se répartissent dans ces domaines"
   ]
  },
  {
   "cell_type": "code",
   "execution_count": 13,
   "metadata": {},
   "outputs": [
    {
     "data": {
      "image/png": "[encoded data removed]",
      "text/plain": [
       "<Figure size 1080x216 with 1 Axes>"
      ]
     },
     "metadata": {
      "needs_background": "light"
     },
     "output_type": "display_data"
    }
   ],
   "source": [
    "fig = plt.figure(figsize=(15,3))\n",
    "\n",
    "data['domanialite'].value_counts().plot(kind='barh', title=\"Distribution par domaine\")\n",
    "plt.show()"
   ]
  },
  {
   "cell_type": "markdown",
   "metadata": {},
   "source": [
    "> **domanialite:** [text] > **[object]**<br>\n",
    "le type de lieu ou l'entité administrative à laquelle appartient l'arbre.\n",
    "\n",
    "> `Recommandation:` garder la colonne, mais supprimer ou imputer *la ligne* problèmatique.\n",
    "\n",
    "---"
   ]
  },
  {
   "cell_type": "markdown",
   "metadata": {},
   "source": [
    "## `arrondissement`"
   ]
  },
  {
   "cell_type": "code",
   "execution_count": 14,
   "metadata": {},
   "outputs": [
    {
     "data": {
      "text/plain": [
       "count              200137\n",
       "unique                 25\n",
       "top       PARIS 15E ARRDT\n",
       "freq                17151\n",
       "Name: arrondissement, dtype: object"
      ]
     },
     "execution_count": 14,
     "metadata": {},
     "output_type": "execute_result"
    }
   ],
   "source": [
    "data['arrondissement'].describe()"
   ]
  },
  {
   "cell_type": "code",
   "execution_count": 15,
   "metadata": {},
   "outputs": [
    {
     "data": {
      "text/plain": [
       "array(['PARIS 7E ARRDT', 'PARIS 17E ARRDT', 'PARIS 16E ARRDT',\n",
       "       'PARIS 4E ARRDT', 'PARIS 13E ARRDT', 'PARIS 12E ARRDT',\n",
       "       'PARIS 19E ARRDT', 'PARIS 14E ARRDT', 'PARIS 15E ARRDT',\n",
       "       'PARIS 3E ARRDT', 'PARIS 20E ARRDT', 'PARIS 18E ARRDT',\n",
       "       'PARIS 6E ARRDT', 'PARIS 11E ARRDT', 'PARIS 1ER ARRDT',\n",
       "       'PARIS 2E ARRDT', 'PARIS 5E ARRDT', 'VAL-DE-MARNE',\n",
       "       'SEINE-SAINT-DENIS', 'HAUTS-DE-SEINE', 'PARIS 9E ARRDT',\n",
       "       'PARIS 10E ARRDT', 'PARIS 8E ARRDT', 'BOIS DE BOULOGNE',\n",
       "       'BOIS DE VINCENNES'], dtype=object)"
      ]
     },
     "execution_count": 15,
     "metadata": {},
     "output_type": "execute_result"
    }
   ],
   "source": [
    "data['arrondissement'].unique()"
   ]
  },
  {
   "cell_type": "markdown",
   "metadata": {},
   "source": [
    "Ce sont visiblement les arrondissement de Paris. Mais notons qu'en plus de 20 arrondissement Parisiens, 5 autres secteurs semblent également dépendre des services de Paris. Il en existe donc 25 au total, et aucun n'est le doublon d'un autre à cause d'un formatage différent."
   ]
  },
  {
   "cell_type": "markdown",
   "metadata": {},
   "source": [
    "#### Visualisons la répartition des arbres dans ces arrondissement"
   ]
  },
  {
   "cell_type": "code",
   "execution_count": 17,
   "metadata": {},
   "outputs": [
    {
     "data": {
      "image/png": "[encoded data removed]",
      "text/plain": [
       "<Figure size 1080x504 with 1 Axes>"
      ]
     },
     "metadata": {
      "needs_background": "light"
     },
     "output_type": "display_data"
    }
   ],
   "source": [
    "fig = plt.figure(figsize=(15,7))\n",
    "\n",
    "data['arrondissement'].value_counts().plot(kind='barh', title=\"Distribution par arrondissement\")\n",
    "plt.show()"
   ]
  },
  {
   "cell_type": "markdown",
   "metadata": {},
   "source": [
    "#### Et vérifions si il en manque."
   ]
  },
  {
   "cell_type": "code",
   "execution_count": 50,
   "metadata": {},
   "outputs": [
    {
     "data": {
      "text/plain": [
       "0"
      ]
     },
     "execution_count": 50,
     "metadata": {},
     "output_type": "execute_result"
    }
   ],
   "source": [
    "data['arrondissement'].isnull().sum()"
   ]
  },
  {
   "cell_type": "markdown",
   "metadata": {},
   "source": [
    "> **arrondissement:** [text] > **[object]**<br>\n",
    "l'arrondissement dans lequel se trouve l'arbre.<br>\n",
    "\n",
    "> `Recommandation:` garder la colonne.\n",
    "\n",
    "---"
   ]
  },
  {
   "cell_type": "markdown",
   "metadata": {},
   "source": [
    "## `complement_addresse`"
   ]
  },
  {
   "cell_type": "code",
   "execution_count": 18,
   "metadata": {},
   "outputs": [
    {
     "data": {
      "text/plain": [
       "count     30902\n",
       "unique     3795\n",
       "top         SN°\n",
       "freq        557\n",
       "Name: complement_addresse, dtype: object"
      ]
     },
     "execution_count": 18,
     "metadata": {},
     "output_type": "execute_result"
    }
   ],
   "source": [
    "data['complement_addresse'].describe()"
   ]
  },
  {
   "cell_type": "code",
   "execution_count": 19,
   "metadata": {},
   "outputs": [
    {
     "data": {
      "text/plain": [
       "array([nan, 'c 12', '12-36', '12-35', 'face 64 Manin', '19-02', '19-06',\n",
       "       '19-07', '19-09', '19-08', '19-10', '82 à 90', '19-04', '19-16',\n",
       "       '19-12', '19-11', '19-03', '13-04', '13-01', '13-03', '07-09',\n",
       "       '07-06', '07-05', '07-04', '70 à 80', '14-06', '07-03', '07-01',\n",
       "       '07-02', '07-07', '07-08', '07-11', '16-57', '16-56', '79',\n",
       "       '07-10b', '07-10', '07-13', '14-11', '75 à 77', '14-05', '89',\n",
       "       '92', '79 à 83', '75-77', '15-02', '15-04', '29 à 39', '41 à 49',\n",
       "       '15-05', '18-14', '18-10', '14-13', '16-47', '15-01', 'F 3',\n",
       "       'F 3-5', 'F 5', 'F 5-7', 'F 7', '14-01', '14-10', '54 à 68',\n",
       "       '46 à 50', '34 à 44', '27 à 29', '20 rue Gazan', '52 à 54',\n",
       "       '29 a 39', '63 à 73', '11 à 27', '1 à 9', '51 à 61', '26 à 32',\n",
       "       '29 -39', '27-29', '20 à 26', '14 à 20', '6 à 12', '03-01',\n",
       "       '209 RUE D ALESIA', '<Nul>', '03-05', 'f2 Rue E. Spuller', '03-04',\n",
       "       '96', 'face bataclan', '87', '78', '72', '53', '123',\n",
       "       '125 richard lenoir', '06-01', '9', '15', '11', 'f 94', '12-31',\n",
       "       'F19'], dtype=object)"
      ]
     },
     "execution_count": 19,
     "metadata": {},
     "output_type": "execute_result"
    }
   ],
   "source": [
    "data['complement_addresse'].unique()[:100]"
   ]
  },
  {
   "cell_type": "markdown",
   "metadata": {},
   "source": [
    "On a visiblement essentiellement des numéros de rue et des fragments d'adresses.\n",
    "\n",
    "Mais on constate également la présence de `nan`. \n",
    "\n",
    "#### Regardons alors quelle fraction est concernée par ces `nan`."
   ]
  },
  {
   "cell_type": "code",
   "execution_count": 20,
   "metadata": {},
   "outputs": [
    {
     "data": {
      "text/plain": [
       "169235"
      ]
     },
     "execution_count": 20,
     "metadata": {},
     "output_type": "execute_result"
    }
   ],
   "source": [
    "data['complement_addresse'].isnull().sum()"
   ]
  },
  {
   "cell_type": "code",
   "execution_count": 21,
   "metadata": {},
   "outputs": [
    {
     "data": {
      "text/plain": [
       "84.55957668996737"
      ]
     },
     "execution_count": 21,
     "metadata": {},
     "output_type": "execute_result"
    }
   ],
   "source": [
    "169235/200137*100"
   ]
  },
  {
   "cell_type": "markdown",
   "metadata": {},
   "source": [
    "Donc la majorité des lignes (~85%) ne semblent pas être renseignées. Et le reste est composé de numéros de rue, de fragments d'adresse ou d'indications visuelles pour se repérer.\n",
    "\n",
    "> **complement_addresse:** [text] > **[object]**<br>\n",
    "des informations supplémentaires pour faciliter la localisation de l'arbre; un numéro de rue, un point de repère ...\n",
    "\n",
    "> `Recommandation:` ne pas en prendre compte telle-quelle. Elle ne semble avoir aucun pouvoir prédictif; il manque beaucoup de lignes et celles qui existent ont beaucoup de formats différents. Mais elle peut éventuellement servir à composer une nouvelle colonne.\n",
    "\n",
    "---"
   ]
  },
  {
   "cell_type": "markdown",
   "metadata": {},
   "source": [
    "## `numero`"
   ]
  },
  {
   "cell_type": "code",
   "execution_count": 22,
   "metadata": {},
   "outputs": [
    {
     "data": {
      "text/plain": [
       "count     0\n",
       "mean    NaN\n",
       "std     NaN\n",
       "min     NaN\n",
       "25%     NaN\n",
       "50%     NaN\n",
       "75%     NaN\n",
       "max     NaN\n",
       "Name: numero, dtype: float64"
      ]
     },
     "execution_count": 22,
     "metadata": {},
     "output_type": "execute_result"
    }
   ],
   "source": [
    "data['numero'].describe()"
   ]
  },
  {
   "cell_type": "code",
   "execution_count": 23,
   "metadata": {},
   "outputs": [
    {
     "data": {
      "text/plain": [
       "array([nan])"
      ]
     },
     "execution_count": 23,
     "metadata": {},
     "output_type": "execute_result"
    }
   ],
   "source": [
    "data['numero'].unique()"
   ]
  },
  {
   "cell_type": "markdown",
   "metadata": {},
   "source": [
    "#### Vérifions quelle fraction manque"
   ]
  },
  {
   "cell_type": "code",
   "execution_count": 24,
   "metadata": {},
   "outputs": [
    {
     "data": {
      "text/plain": [
       "200137"
      ]
     },
     "execution_count": 24,
     "metadata": {},
     "output_type": "execute_result"
    }
   ],
   "source": [
    "data['numero'].isnull().sum()"
   ]
  },
  {
   "cell_type": "code",
   "execution_count": 51,
   "metadata": {},
   "outputs": [
    {
     "data": {
      "text/plain": [
       "100.0"
      ]
     },
     "execution_count": 51,
     "metadata": {},
     "output_type": "execute_result"
    }
   ],
   "source": [
    "200137/200137*100"
   ]
  },
  {
   "cell_type": "markdown",
   "metadata": {},
   "source": [
    "Cette **colonne est vide** et les numéros sont visiblement dans les colonnes `complement_addresse` (ou *lieu*).\n",
    "\n",
    "> **numero:**[text] > **[float64]**<br>\n",
    "le numéro de rue auquel se trouve l'arbre.<br>\n",
    "\n",
    "> `Recommandation:` supprimer la colonne.\n",
    "\n",
    "---"
   ]
  },
  {
   "cell_type": "markdown",
   "metadata": {},
   "source": [
    "## `lieu`"
   ]
  },
  {
   "cell_type": "code",
   "execution_count": 25,
   "metadata": {},
   "outputs": [
    {
     "data": {
      "text/plain": [
       "count                                          200137\n",
       "unique                                           6921\n",
       "top       PARC FLORAL DE PARIS / ROUTE DE LA PYRAMIDE\n",
       "freq                                             2995\n",
       "Name: lieu, dtype: object"
      ]
     },
     "execution_count": 25,
     "metadata": {},
     "output_type": "execute_result"
    }
   ],
   "source": [
    "data['lieu'].describe()"
   ]
  },
  {
   "cell_type": "code",
   "execution_count": 26,
   "metadata": {},
   "outputs": [
    {
     "data": {
      "text/plain": [
       "array(['MAIRIE DU 7E 116 RUE DE GRENELLE PARIS 7E',\n",
       "       'PARC CLICHY-BATIGNOLLES-MARTIN LUTHER KING',\n",
       "       'SQUARE ALEXANDRE ET RENE PARODI / 1 PLACE DE LA PORTE MAILLOT',\n",
       "       'JARDIN DE L AVENUE FOCH / 10 AVENUE FOCH', 'JARDIN DU RANELAGH',\n",
       "       'JARDIN DE LA CITE INTERNATIONALE DES ARTS',\n",
       "       'SQUARE ALBERT SCHWEITZER',\n",
       "       'JARDIN DU GENERAL ANSELIN / 1 AVENUE DE POLOGNE',\n",
       "       'SQUARE CLARA ZETKIN / 21 AVENUE BOUTROUX', 'SQUARE GANDON',\n",
       "       'PARC DE BERCY', 'PARC DES BUTTES CHAUMONT',\n",
       "       'JARDIN DU CHAMP DE MARS', 'SQUARE RENE LE GALL',\n",
       "       'SQUARE DE LA PORTE DE LA VILLETTE', 'PARC MONTSOURIS',\n",
       "       'JARDIN ALBERTO GIACOMETTI',\n",
       "       'PARC GEORGES BRASSENS / 2 PLACE JACQUES MARETTE',\n",
       "       'JARDINIERE PLACE THEODOR HERZL', 'SQUARE EMILE CHAUTEMPS'],\n",
       "      dtype=object)"
      ]
     },
     "execution_count": 26,
     "metadata": {},
     "output_type": "execute_result"
    }
   ],
   "source": [
    "data['lieu'].unique()[:20]"
   ]
  },
  {
   "cell_type": "markdown",
   "metadata": {},
   "source": [
    "Ce sont visiblement les adresses où se trouvent les arbres.\n",
    "\n",
    "Mais on constate que le format est très variable;\n",
    "- il y a parfois des séparateur \" / \",\n",
    "- il y a parfois juste le nom d'un lieu (jardin, square, parc...)\n",
    "- et il y a parfois l'adresse complete (numero et nom de rue)\n",
    "\n",
    "#### Voyons les `lieux` qui ressortent le plus"
   ]
  },
  {
   "cell_type": "code",
   "execution_count": 27,
   "metadata": {},
   "outputs": [
    {
     "data": {
      "text/plain": [
       "PARC FLORAL DE PARIS / ROUTE DE LA PYRAMIDE                                  2995\n",
       "PARC DES BUTTES CHAUMONT                                                     2331\n",
       "PARC ANDRE CITROEN                                                           2095\n",
       "PARC OMNISPORT SUZANNE LENGLEN / 7 BOULEVARD DES FRERES VOISIN               1478\n",
       "INSEP / AVENUE DU TREMBLAY                                                   1293\n",
       "JARDIN DU CHAMP DE MARS                                                      1276\n",
       "ARBORETUM DE L ECOLE DU BREUIL - ROUTE DE LA FERME / ROUTE DE LA PYRAMIDE    1261\n",
       "AVENUE DES CHAMPS ELYSEES                                                    1246\n",
       "PARC DE BERCY                                                                1223\n",
       "PARC MONTSOURIS                                                              1167\n",
       "Name: lieu, dtype: int64"
      ]
     },
     "execution_count": 27,
     "metadata": {},
     "output_type": "execute_result"
    }
   ],
   "source": [
    "data['lieu'].value_counts()[:10] # top 10"
   ]
  },
  {
   "cell_type": "markdown",
   "metadata": {},
   "source": [
    "#### Et à présent voyons si un découpage selon le séparateur \" / \" changerait quelque chose à ce classement."
   ]
  },
  {
   "cell_type": "code",
   "execution_count": 28,
   "metadata": {},
   "outputs": [],
   "source": [
    "lieu_split = data['lieu'].str.split('/', expand=True)"
   ]
  },
  {
   "cell_type": "code",
   "execution_count": 29,
   "metadata": {},
   "outputs": [],
   "source": [
    "lieu_split_total = pd.concat([lieu_split[0].str.strip(), lieu_split[1].str.strip(), lieu_split[2].str.strip()])"
   ]
  },
  {
   "cell_type": "code",
   "execution_count": 30,
   "metadata": {},
   "outputs": [
    {
     "data": {
      "text/plain": [
       "CIMETIERE DE PANTIN           9135\n",
       "CIMETIERE DE THIAIS           5612\n",
       "ROUTE DE LA PYRAMIDE          5299\n",
       "CIMETIERE DE BAGNEUX          4666\n",
       "CIMETIERE DU PERE LACHAISE    3923\n",
       "PARC FLORAL DE PARIS          2995\n",
       "PARC DES BUTTES CHAUMONT      2331\n",
       "PARC ANDRE CITROEN            2116\n",
       "CIMETIERE D'IVRY              1939\n",
       "JARDIN DU CHAMP DE MARS       1819\n",
       "dtype: int64"
      ]
     },
     "execution_count": 30,
     "metadata": {},
     "output_type": "execute_result"
    }
   ],
   "source": [
    "lieu_split_total.value_counts()[:10] # top 10"
   ]
  },
  {
   "cell_type": "markdown",
   "metadata": {},
   "source": [
    "En effet, le découpage, nettoyage, formatage des addresses données pourrait être utiles pour l'analyse.\n",
    "\n",
    "#### Enfin vérifions si il en manque."
   ]
  },
  {
   "cell_type": "code",
   "execution_count": 52,
   "metadata": {},
   "outputs": [
    {
     "data": {
      "text/plain": [
       "0"
      ]
     },
     "execution_count": 52,
     "metadata": {},
     "output_type": "execute_result"
    }
   ],
   "source": [
    "data['lieu'].isnull().sum()"
   ]
  },
  {
   "cell_type": "markdown",
   "metadata": {},
   "source": [
    "> **lieu:** [text] > **[object]**<br>\n",
    "l'adresse à laquelle on peut trouver l'arbre.\n",
    "\n",
    "> `Recommandation:` garder la colonne et la retravailler pour la rendre plus pertinente; suppression des séparateurs, séparations des numéros de rues quand ils sont présents...\n",
    "\n",
    "---"
   ]
  },
  {
   "cell_type": "markdown",
   "metadata": {},
   "source": [
    "## `id_emplacement` "
   ]
  },
  {
   "cell_type": "code",
   "execution_count": 31,
   "metadata": {},
   "outputs": [
    {
     "data": {
      "text/plain": [
       "count     200137\n",
       "unique     69040\n",
       "top       101001\n",
       "freq        1324\n",
       "Name: id_emplacement, dtype: object"
      ]
     },
     "execution_count": 31,
     "metadata": {},
     "output_type": "execute_result"
    }
   ],
   "source": [
    "data['id_emplacement'].describe()"
   ]
  },
  {
   "cell_type": "code",
   "execution_count": 32,
   "metadata": {},
   "outputs": [
    {
     "data": {
      "text/plain": [
       "array(['19', '20', '21', '22', '000G0037', '000G0036', '000G0035', '35',\n",
       "       '802008', '802009', '802007', '20001', '20003', '20004', '20007',\n",
       "       '20009', '20012', '20013', '20014', '20015', '20016', '20017',\n",
       "       '20018', '20019', '20020', '20021', '20022', '20023', '20024',\n",
       "       '20025', '20026', '20028', '20030', '20031', '20032', '20033',\n",
       "       '20034', '20035', '20036', '20037', '20038', '20039', '20040',\n",
       "       '20041', '30001', '30002', '30003', '30004', '30006', '30007'],\n",
       "      dtype=object)"
      ]
     },
     "execution_count": 32,
     "metadata": {},
     "output_type": "execute_result"
    }
   ],
   "source": [
    "data['id_emplacement'].unique()[:50]"
   ]
  },
  {
   "cell_type": "markdown",
   "metadata": {},
   "source": [
    "#### Vérifions si ces ID sont uniques"
   ]
  },
  {
   "cell_type": "code",
   "execution_count": 33,
   "metadata": {},
   "outputs": [
    {
     "data": {
      "text/plain": [
       "101001          1324\n",
       "101002          1241\n",
       "101003          1128\n",
       "202001          1032\n",
       "101004          1020\n",
       "                ... \n",
       "230068             1\n",
       "A09500007014       1\n",
       "47920104           1\n",
       "194802014          1\n",
       "A14000040007       1\n",
       "Name: id_emplacement, Length: 69040, dtype: int64"
      ]
     },
     "execution_count": 33,
     "metadata": {},
     "output_type": "execute_result"
    }
   ],
   "source": [
    "data['id_emplacement'].value_counts()"
   ]
  },
  {
   "cell_type": "markdown",
   "metadata": {},
   "source": [
    "Ils ne sont donc pas uniques, mais quand un ID est utilisé plusieurs fois, est-ce forcement pour un même endroit ?\n",
    "\n",
    "#### Regardons si un même ID se trouve toujours dans le même secteur / arrondissement"
   ]
  },
  {
   "cell_type": "code",
   "execution_count": 34,
   "metadata": {},
   "outputs": [
    {
     "data": {
      "text/plain": [
       "array(['PARIS 20E ARRDT', 'PARIS 1ER ARRDT', 'PARIS 16E ARRDT',\n",
       "       'PARIS 14E ARRDT', 'PARIS 11E ARRDT', 'PARIS 2E ARRDT',\n",
       "       'PARIS 18E ARRDT', 'PARIS 17E ARRDT', 'PARIS 12E ARRDT',\n",
       "       'PARIS 13E ARRDT', 'PARIS 15E ARRDT', 'PARIS 19E ARRDT',\n",
       "       'BOIS DE VINCENNES', 'PARIS 9E ARRDT', 'BOIS DE BOULOGNE',\n",
       "       'PARIS 4E ARRDT', 'PARIS 5E ARRDT', 'PARIS 8E ARRDT',\n",
       "       'PARIS 6E ARRDT', 'PARIS 7E ARRDT', 'PARIS 10E ARRDT',\n",
       "       'PARIS 3E ARRDT'], dtype=object)"
      ]
     },
     "execution_count": 34,
     "metadata": {},
     "output_type": "execute_result"
    }
   ],
   "source": [
    "data[data['id_emplacement'] == '101003'].arrondissement.unique()"
   ]
  },
  {
   "cell_type": "markdown",
   "metadata": {},
   "source": [
    "Donc les ID de ces emplacements sont réutilisés dans plusieurs arrondissements de Paris.\n",
    "\n",
    "#### Et vérifions si il en manque."
   ]
  },
  {
   "cell_type": "code",
   "execution_count": 35,
   "metadata": {},
   "outputs": [
    {
     "data": {
      "text/plain": [
       "0"
      ]
     },
     "execution_count": 35,
     "metadata": {},
     "output_type": "execute_result"
    }
   ],
   "source": [
    "data['id_emplacement'].isnull().sum()"
   ]
  },
  {
   "cell_type": "markdown",
   "metadata": {},
   "source": [
    "Ce sont donc des identifiants composés de chiffres **ET** de lettres (pour certains), dont le format ne semble pas standardisé.\n",
    "\n",
    "Par ailleurs aucun ne manque et certains ID sont réutilisés plusieurs fois dans des endroits distincts... Donc ces emplacements sont possiblement des sous sections d'entitées géographiques plus grandes (quartiers, arrondissements, ...)\n",
    "\n",
    "> **id_emplacement:** [text] > **[object]**<br>\n",
    "l'identifiant de l'emplacement auquel est lié l'arbre. Mais ces identifiants et les emplacements associées ne sont pas uniques.\n",
    "\n",
    "> `Recommandation:` La colonne pourrait être utile si l'on parvient à identifier le découpage auquel ces ID correspondent.\n",
    "\n",
    "---"
   ]
  },
  {
   "cell_type": "markdown",
   "metadata": {},
   "source": [
    "## `libelle_francais`"
   ]
  },
  {
   "cell_type": "code",
   "execution_count": 36,
   "metadata": {},
   "outputs": [
    {
     "data": {
      "text/plain": [
       "count      198640\n",
       "unique        192\n",
       "top       Platane\n",
       "freq        42508\n",
       "Name: libelle_francais, dtype: object"
      ]
     },
     "execution_count": 36,
     "metadata": {},
     "output_type": "execute_result"
    }
   ],
   "source": [
    "data['libelle_francais'].describe()"
   ]
  },
  {
   "cell_type": "markdown",
   "metadata": {},
   "source": [
    "#### Regardons le genre de valeurs présentes dans cette colonne"
   ]
  },
  {
   "cell_type": "code",
   "execution_count": 37,
   "metadata": {},
   "outputs": [
    {
     "data": {
      "text/plain": [
       "array(['Marronnier', 'If', 'Erable', 'Arbre à miel', 'Platane', 'Sophora',\n",
       "       'Prunus n. sp.', 'Hêtre', 'Micocoulier', 'Tilleul', 'Chêne',\n",
       "       'Savonnier', 'Copalme', 'Noyer', 'Arbre à caramel', 'Troene',\n",
       "       'Tulipier', 'Pin', 'Sapin', 'Cerisier à fleurs', 'Charme-Houblon',\n",
       "       'Cèdre', 'Paulownia', 'Thuya', 'Pommier à fleurs', 'Poirier',\n",
       "       'Pommier', 'Bouleau', 'Orme', 'Arbre de Judée', 'Robinier',\n",
       "       'Frêne', 'Aubépine', 'Fevier', 'Prunier à fleurs',\n",
       "       'Arbre aux quarante écus', 'Néflier commun', 'Saule', 'Magnolia',\n",
       "       'Prunier à fruits', 'Poirier à fleurs', 'Peuplier', 'Faux-cyprès',\n",
       "       'Aubepine', nan, 'Plaqueminier', 'Mûrier', 'Pêcher', 'Pterocarya',\n",
       "       'Merisier', 'Noisetier de Byzance', 'Alisier', 'Cognassier',\n",
       "       'Parrotie de Perse - Arbre de fer', 'Poirier à fruits',\n",
       "       'Orme de Sibérie', 'Frêne à fleurs', 'Aulne', 'Troëne',\n",
       "       'Fontanesia', 'Cornouiller', 'Cedrele', 'Catalpa', 'Houx', 'Buis',\n",
       "       'Metaséquoia', 'Chicot du Canada', 'Oranger des Osages',\n",
       "       'Céphalotaxe', 'Sumac', 'Châtaignier', 'Ailante', 'Sequoia',\n",
       "       'Lilas des indes', 'Pterostyrax', 'Eucalyptus', 'Olivier',\n",
       "       'Figuier', 'Charme', 'Sureau', 'Epicéa', 'Sorbier', 'Amélanchier',\n",
       "       'Cytise', 'Filaire', 'Angélique', 'Virgilier', 'Phellodendron',\n",
       "       'Eleagnus - Chalef', 'Pommier à fruits', 'Cabrillet', 'Citronnier',\n",
       "       'Arbre à soie', 'Lilas de Perse', 'Laurier-Cerise',\n",
       "       'Laurier du Portugal', 'Nothofagus', 'Cyprès', 'Noisetier',\n",
       "       'Palmier'], dtype=object)"
      ]
     },
     "execution_count": 37,
     "metadata": {},
     "output_type": "execute_result"
    }
   ],
   "source": [
    "data['libelle_francais'].unique()[:100]"
   ]
  },
  {
   "cell_type": "markdown",
   "metadata": {},
   "source": [
    "#### Visualisons la répartition de ces noms communs (disons les 25 premiers)."
   ]
  },
  {
   "cell_type": "raw",
   "metadata": {},
   "source": [
    "data['libelle_francais'].str.lower().value_counts()"
   ]
  },
  {
   "cell_type": "code",
   "execution_count": 58,
   "metadata": {},
   "outputs": [
    {
     "data": {
      "image/png": "[encoded data removed]",
      "text/plain": [
       "<Figure size 1080x504 with 1 Axes>"
      ]
     },
     "metadata": {
      "needs_background": "light"
     },
     "output_type": "display_data"
    }
   ],
   "source": [
    "fig = plt.figure(figsize=(15,7))\n",
    "\n",
    "data['libelle_francais'].value_counts()[:25].plot(kind='barh', title=\"Distribution par nom verniculaire (Top 25)\")\n",
    "plt.show()"
   ]
  },
  {
   "cell_type": "markdown",
   "metadata": {},
   "source": [
    "#### Enfin vérifions si il en manque."
   ]
  },
  {
   "cell_type": "code",
   "execution_count": 39,
   "metadata": {},
   "outputs": [
    {
     "data": {
      "text/plain": [
       "1497"
      ]
     },
     "execution_count": 39,
     "metadata": {},
     "output_type": "execute_result"
    }
   ],
   "source": [
    "data['libelle_francais'].isnull().sum()"
   ]
  },
  {
   "cell_type": "code",
   "execution_count": 40,
   "metadata": {},
   "outputs": [
    {
     "data": {
      "text/plain": [
       "0.747987628474495"
      ]
     },
     "execution_count": 40,
     "metadata": {},
     "output_type": "execute_result"
    }
   ],
   "source": [
    "1497/200137*100"
   ]
  },
  {
   "cell_type": "markdown",
   "metadata": {},
   "source": [
    "Cette colonne rassemble donc les nom communs (ou verniculaires) des abres, en Français.\n",
    "\n",
    "Il manque une petite fraction de ces valeurs (moins de 1%), mais il devrait être facile d'imputer ces valeurs si les colonnes `genre`, `espece` ou `variete` sont correctement remplies.\n",
    "\n",
    "> **libelle_francais:** [text] > [object]<br>\n",
    "le nom commun en Français, de l'espèce de l'arbre.\n",
    "\n",
    "> `Recommandation:` C'est une colonne qui est probablement redondante avec la colonne `espece`, mais qui pourrait aider à imputer plusieurs autres colonnes.\n",
    "\n",
    "---"
   ]
  },
  {
   "cell_type": "markdown",
   "metadata": {},
   "source": [
    "## `genre`"
   ]
  },
  {
   "cell_type": "code",
   "execution_count": 41,
   "metadata": {},
   "outputs": [
    {
     "data": {
      "text/plain": [
       "count       200121\n",
       "unique         175\n",
       "top       Platanus\n",
       "freq         42591\n",
       "Name: genre, dtype: object"
      ]
     },
     "execution_count": 41,
     "metadata": {},
     "output_type": "execute_result"
    }
   ],
   "source": [
    "data['genre'].describe()"
   ]
  },
  {
   "cell_type": "markdown",
   "metadata": {},
   "source": [
    "#### Regardons le genre de valeurs présentes dans cette colonne"
   ]
  },
  {
   "cell_type": "code",
   "execution_count": 42,
   "metadata": {},
   "outputs": [
    {
     "data": {
      "text/plain": [
       "array(['Aesculus', 'Taxus', 'Acer', 'Tetradium', 'Platanus', 'Sophora',\n",
       "       'Prunus', 'Fagus', 'Celtis', 'Tilia', 'Quercus', 'Koelreuteria',\n",
       "       'Liquidambar', 'Juglans', 'Cercidiphyllum', 'Ligustrum',\n",
       "       'Liriodendron', 'Pinus', 'Abies', 'Ostrya', 'Cedrus', 'Paulownia',\n",
       "       'Thuja', 'Malus', 'Pyrus', 'Betula', 'Ulmus', 'Cercis', 'Robinia',\n",
       "       'Fraxinus', 'Crataegus', 'Gleditsia', 'Ginkgo', 'Mespilus',\n",
       "       'Salix', 'Magnolia', 'Populus', 'Chamaecyparis', 'Diospyros',\n",
       "       'Morus', 'Pterocarya', 'Corylus', 'Sorbus', 'Cydonia', 'Parrotia',\n",
       "       'Zelkova', 'Alnus', 'Cladrastis', 'Fontanesia', 'Cornus', 'Toona',\n",
       "       'Catalpa', 'Ilex', 'Buxus', 'Metasequoia', 'Gymnocladus',\n",
       "       'Maclura', 'Cephalotaxus', 'Rhus', 'Castanea', 'Ailanthus',\n",
       "       'Broussonetia', 'Sequoiadendron', 'Lagerstroemia', 'Pterostyrax',\n",
       "       'Eucalyptus', 'Olea', 'Ficus', 'Carpinus', 'Sambucus', 'Picea',\n",
       "       'Amelanchier', 'Laburnum', 'Phillyrea', 'Sequoia', 'Aralia',\n",
       "       'Phellodendron', 'Elaeagnus', 'Ehretia', 'Poncirus', 'Albizia',\n",
       "       'Melia', 'Nothofagus', 'Cupressus', 'Trachycarpus', 'Platycladus',\n",
       "       'Torreya', 'Calocedrus', 'Abelia', 'Staphylea', 'Photinia',\n",
       "       'Clerodendrum', 'Davidia', 'Firmiana', 'Zanthoxylum', 'Taxodium',\n",
       "       'Eucommia', 'Nyssa', 'Cotoneaster', 'Osmanthus'], dtype=object)"
      ]
     },
     "execution_count": 42,
     "metadata": {},
     "output_type": "execute_result"
    }
   ],
   "source": [
    "data['genre'].unique()[:100]"
   ]
  },
  {
   "cell_type": "markdown",
   "metadata": {},
   "source": [
    "#### Visualisons la répartition de ces genre d'arbres (disons les 25 premiers)."
   ]
  },
  {
   "cell_type": "raw",
   "metadata": {},
   "source": [
    "data['genre'].str.lower().value_counts()"
   ]
  },
  {
   "cell_type": "code",
   "execution_count": 57,
   "metadata": {},
   "outputs": [
    {
     "data": {
      "image/png": "[encoded data removed]",
      "text/plain": [
       "<Figure size 1080x504 with 1 Axes>"
      ]
     },
     "metadata": {
      "needs_background": "light"
     },
     "output_type": "display_data"
    }
   ],
   "source": [
    "fig = plt.figure(figsize=(15,7))\n",
    "\n",
    "data['genre'].value_counts()[:25].plot(kind='barh', title=\"Distribution par genre (Top 25)\")\n",
    "plt.show()"
   ]
  },
  {
   "cell_type": "markdown",
   "metadata": {},
   "source": [
    "#### Enfin vérifions si il en manque."
   ]
  },
  {
   "cell_type": "code",
   "execution_count": 45,
   "metadata": {},
   "outputs": [
    {
     "data": {
      "text/plain": [
       "16"
      ]
     },
     "execution_count": 45,
     "metadata": {},
     "output_type": "execute_result"
    }
   ],
   "source": [
    "data['genre'].isnull().sum()"
   ]
  },
  {
   "cell_type": "code",
   "execution_count": 46,
   "metadata": {},
   "outputs": [
    {
     "data": {
      "text/plain": [
       "0.007994523751230408"
      ]
     },
     "execution_count": 46,
     "metadata": {},
     "output_type": "execute_result"
    }
   ],
   "source": [
    "16/200137*100"
   ]
  },
  {
   "cell_type": "markdown",
   "metadata": {},
   "source": [
    "Cette colonne rassemble donc les genre des abres, en Français.\n",
    "\n",
    "Il manque quelques valeurs, mais on peut supprimer les lignes si la colonne se révèle peu importante, ou imputer les valeurs depuis les colonnes `libelle_francais`, `espece` ou `variete` si nécessaire.\n",
    "\n",
    "> **genre:** [text] > **[object]**<br>\n",
    "le genre de l'arbre.<br>\n",
    "Le genre étant un ensemble d'espèces ayant en commun plusieurs caractères similaires.\n",
    "\n",
    "> `Recommandation:` Il convient de garder cette colonne. Il manque quelques valeurs, qui doivent être supprimées ou imputées.\n",
    "\n",
    "---"
   ]
  },
  {
   "cell_type": "markdown",
   "metadata": {},
   "source": [
    "## `espece`"
   ]
  },
  {
   "cell_type": "code",
   "execution_count": 53,
   "metadata": {},
   "outputs": [
    {
     "data": {
      "text/plain": [
       "count          198385\n",
       "unique            539\n",
       "top       x hispanica\n",
       "freq            36409\n",
       "Name: espece, dtype: object"
      ]
     },
     "execution_count": 53,
     "metadata": {},
     "output_type": "execute_result"
    }
   ],
   "source": [
    "data['espece'].describe()"
   ]
  },
  {
   "cell_type": "markdown",
   "metadata": {},
   "source": [
    "#### Regardons les valeurs présentes dans cette colonne"
   ]
  },
  {
   "cell_type": "code",
   "execution_count": 54,
   "metadata": {},
   "outputs": [
    {
     "data": {
      "text/plain": [
       "array(['hippocastanum', 'baccata', 'negundo', 'daniellii', 'x hispanica',\n",
       "       'japonica', 'n. sp.', 'sylvatica', 'occidentalis', 'tomentosa',\n",
       "       'robur', 'paniculata', 'rufinerve', 'styraciflua', 'nigra',\n",
       "       'japonicum', 'lucidum', 'tulipifera', 'concolor', 'saccharinum',\n",
       "       'x europaea', 'platyphyllos', 'platanoides', 'serrulata',\n",
       "       'carpinifolia', 'libani', 'wallichiana', 'floribunda', 'pendula',\n",
       "       'siliquastrum', 'pseudoacacia', 'excelsior', 'laevigata',\n",
       "       'pseudoplatanus', 'triacanthos', 'cerasifera', 'campestre',\n",
       "       'biloba', 'buergerianum', 'germanica', 'cerris', 'regia',\n",
       "       'sylvestris', 'rubra', 'nigra subsp. nigra', 'alba',\n",
       "       'tataricum subsp. ginnala', 'domestica', 'calleryana',\n",
       "       'cappadocicum', 'x carnea', 'lawsoniana', 'x turneri', 'utilis',\n",
       "       'maackii', 'kaki', 'cordata', 'persica', 'fraxinifolia',\n",
       "       'frainetto', 'avium', 'x soulangeana', 'colurna', 'torminalis',\n",
       "       'petraea', 'ilex', 'oblonga', 'davidii', 'communis',\n",
       "       'monspessulanum', 'papyrifera', 'kobus', 'suber', 'phellos',\n",
       "       'canariensis', 'ornus', 'glutinosa', 'castaneifolia', 'babylonica',\n",
       "       'capillipes', 'minor', 'x media', 'henryana', 'phillyreoides',\n",
       "       'opalus', 'mas', 'sinensis', 'bignonioides',\n",
       "       'triacanthos f. Inermis', 'australis', 'aquifolium', 'grandiflora',\n",
       "       'sempervirens', 'incana', 'babylonica var. pekinensis',\n",
       "       'sargentii', 'macrophyllum', nan, 'glyptostroboides', 'deodara'],\n",
       "      dtype=object)"
      ]
     },
     "execution_count": 54,
     "metadata": {},
     "output_type": "execute_result"
    }
   ],
   "source": [
    "data['espece'].unique()[:100]"
   ]
  },
  {
   "cell_type": "markdown",
   "metadata": {},
   "source": [
    "#### Visualisons la répartition de ces espece d'arbres (disons les 25 premiers)."
   ]
  },
  {
   "cell_type": "raw",
   "metadata": {},
   "source": [
    "data['espece'].str.lower().value_counts()"
   ]
  },
  {
   "cell_type": "code",
   "execution_count": 56,
   "metadata": {},
   "outputs": [
    {
     "data": {
      "image/png": "[encoded data removed]",
      "text/plain": [
       "<Figure size 1080x504 with 1 Axes>"
      ]
     },
     "metadata": {
      "needs_background": "light"
     },
     "output_type": "display_data"
    }
   ],
   "source": [
    "fig = plt.figure(figsize=(15,7))\n",
    "\n",
    "data['espece'].value_counts()[:25].plot(kind='barh', title=\"Distribution par espece (Top 25)\")\n",
    "plt.show()"
   ]
  },
  {
   "cell_type": "markdown",
   "metadata": {},
   "source": [
    "#### Enfin vérifions si il en manque."
   ]
  },
  {
   "cell_type": "code",
   "execution_count": 59,
   "metadata": {},
   "outputs": [
    {
     "data": {
      "text/plain": [
       "1752"
      ]
     },
     "execution_count": 59,
     "metadata": {},
     "output_type": "execute_result"
    }
   ],
   "source": [
    "data['espece'].isnull().sum()"
   ]
  },
  {
   "cell_type": "code",
   "execution_count": 60,
   "metadata": {},
   "outputs": [
    {
     "data": {
      "text/plain": [
       "0.8754003507597296"
      ]
     },
     "execution_count": 60,
     "metadata": {},
     "output_type": "execute_result"
    }
   ],
   "source": [
    "1752/200137*100"
   ]
  },
  {
   "cell_type": "markdown",
   "metadata": {},
   "source": [
    "Cette colonne rassemble donc les nom scientifiques (ou latins) des abres.\n",
    "\n",
    "Il manque une petite fraction de ces valeurs (moins de 1%), mais il devrait être facile d'imputer ces valeurs si les colonnes `genre`, `libelle_francais` ou `variete` sont correctement remplies.\n",
    "\n",
    "> **espece:** [text] > **[object]**<br>\n",
    "le nom scientifique de l'espèce de l'arbre.\n",
    "\n",
    "> `Recommandation:` Il convient de garder cette colonne. Il manque quelques valeurs, qui doivent être supprimées ou imputées.\n",
    "\n",
    "---"
   ]
  },
  {
   "cell_type": "markdown",
   "metadata": {},
   "source": [
    "## `variete`"
   ]
  },
  {
   "cell_type": "code",
   "execution_count": 61,
   "metadata": {},
   "outputs": [
    {
     "data": {
      "text/plain": [
       "count          36777\n",
       "unique           436\n",
       "top       Baumannii'\n",
       "freq            4538\n",
       "Name: variete, dtype: object"
      ]
     },
     "execution_count": 61,
     "metadata": {},
     "output_type": "execute_result"
    }
   ],
   "source": [
    "data['variete'].describe()"
   ]
  },
  {
   "cell_type": "markdown",
   "metadata": {},
   "source": [
    "#### Regardons les valeurs présentes dans cette colonne"
   ]
  },
  {
   "cell_type": "code",
   "execution_count": 62,
   "metadata": {},
   "outputs": [
    {
     "data": {
      "text/plain": [
       "array([nan, \"Atropunicea'\", \"Euchlora'\", \"Schwedleri'\", \"Pissardii'\",\n",
       "       \"Pallida'\", 'n. sp.', \"Chanticleer'\", \"Purpureum'\", \"Italica'\",\n",
       "       \"Aspleniifolia'\", \"Jacquemontii'\", \"Fastigiata'\",\n",
       "       \"Fastigiate Koster'\", \"Imperialis'\", \"Honey Dew'\",\n",
       "       \"Jacqueline Hillier'\", \"Rubra Plena'\", \"Diversifolia'\",\n",
       "       \"Flamingo'\", \"Argentea Marginata'\", \"Pendula'\", \"Liempde'\",\n",
       "       \"Pyramidalis'\", \"Tortuosa'\", \"Aurea'\", \"Frisia'\", \"Leopoldii'\",\n",
       "       \"Aldenhamensis'\", \"Briotii'\", \"Kanzan'\", \"Variegata'\", \"Hizakura'\",\n",
       "       \"Albomarginata'\", \"Bradford'\", \"Autumnalis Rosea'\",\n",
       "       \"Atropurpurea'\", \"Castanaefolia'\", \"Eddie's White Wonder'\",\n",
       "       \"Autumnalis'\", \"Heaven Scent'\", \"Schouten'\", \"Sundew'\",\n",
       "       \"Leonard messel'\", \"Merrill'\", \"Plena'\", \"Unifolia'\", \"Accolade'\",\n",
       "       \"Baumannii'\", \"Virginiana'\", \"Flying Dragon'\", \"Laciniata'\",\n",
       "       \"Laciniatum'\", \"Globosum'\", \"Rohanii'\", \"Golden Hornet'\",\n",
       "       \"Glauca'\", \"Youngii'\", \"Contorta'\", \"Umbraculifera'\", \"Jaspidea'\",\n",
       "       \"Spaeth'\", \"Flekova'\", \"Regent'\", \"Atrovirens'\", \"Purpurea'\",\n",
       "       \"Alba'\", \"Paul's Scarlet Hamlet'\", \"Lutea'\", \"Dawyck'\",\n",
       "       \"Sapporo Autumn Gold' RESISTA\", \"Totem'\", \"Erythrocladum'\",\n",
       "       \"Masu-kagami'\", \"Vossii'\", \"Atropurpureum'\", \"Farlake's Green'\",\n",
       "       \"Elegans'\", \"Fugenzo'\", \"Shôgetsu'\", \"Elsrijk'\", \"Evereste'\",\n",
       "       \"Alba Superba'\", \"Splendens'\", \"Raywood'\", \"Taihaku'\",\n",
       "       \"Drummondii'\", \"Minsum' SUMMER BELLS\", \"Smaragd'\",\n",
       "       \"Nanguen' LUTECE\", \"Laciniatum Wieri'\", \"Digitata'\",\n",
       "       \"Sandraudiga'\", \"Bessoniana'\", \"Carrierei'\", \"Boubri'\",\n",
       "       \"Niedzwetzkyana'\", \"John Downie'\", \"Meczek'\", \"Stricta'\"],\n",
       "      dtype=object)"
      ]
     },
     "execution_count": 62,
     "metadata": {},
     "output_type": "execute_result"
    }
   ],
   "source": [
    "data['variete'].unique()[:100]"
   ]
  },
  {
   "cell_type": "markdown",
   "metadata": {},
   "source": [
    "#### Visualisons la répartition de ces variétés d'arbres (disons les 25 premiers)."
   ]
  },
  {
   "cell_type": "raw",
   "metadata": {},
   "source": [
    "data['variete'].str.lower().value_counts()"
   ]
  },
  {
   "cell_type": "code",
   "execution_count": 66,
   "metadata": {},
   "outputs": [
    {
     "data": {
      "image/png": "[encoded data removed]",
      "text/plain": [
       "<Figure size 1080x504 with 1 Axes>"
      ]
     },
     "metadata": {
      "needs_background": "light"
     },
     "output_type": "display_data"
    }
   ],
   "source": [
    "fig = plt.figure(figsize=(15,7))\n",
    "\n",
    "data['variete'].value_counts()[:25].plot(kind='barh', title=\"Distribution par variété (Top 25)\")\n",
    "plt.show()"
   ]
  },
  {
   "cell_type": "markdown",
   "metadata": {},
   "source": [
    "#### Enfin vérifions si il en manque."
   ]
  },
  {
   "cell_type": "code",
   "execution_count": 67,
   "metadata": {},
   "outputs": [
    {
     "data": {
      "text/plain": [
       "163360"
      ]
     },
     "execution_count": 67,
     "metadata": {},
     "output_type": "execute_result"
    }
   ],
   "source": [
    "data['variete'].isnull().sum()"
   ]
  },
  {
   "cell_type": "code",
   "execution_count": 68,
   "metadata": {},
   "outputs": [
    {
     "data": {
      "text/plain": [
       "81.62408750006246"
      ]
     },
     "execution_count": 68,
     "metadata": {},
     "output_type": "execute_result"
    }
   ],
   "source": [
    "163360/200137*100"
   ]
  },
  {
   "cell_type": "markdown",
   "metadata": {},
   "source": [
    "Cette colonne indique donc la variété (sous espèce) des abres, mais on constate qu'il en manque beaucoup (~82%).\n",
    "\n",
    "Par ailleurs, il semble qu'un aopostrophe soit systèmatiquement ajouté à la fin du nom (peut-être pour l'accoler à l'espèce ?).\n",
    "\n",
    "Enfin on note la présent d'un `n. sp.` que l'on doit pouvoir traduire par 'Ne sais pas' et qu'il conviendrait donc de transformer en `nan`.\n",
    "\n",
    "> **variete:**> [text] > **[object]**<br>\n",
    "la varité de l'arbre.<br>\n",
    "Le terme variété vient différencier les plantes d’une même espèce.\n",
    "\n",
    "> `Recommandation:` Quoi que dans une certaine mesure redondante avec les colonnes `espece` ou `libelle_francais`, cette colonne pourrait certainement être utile. Mais il manque vraiment beaucoup de lignes et il serait plus simple de la supprimer (bien qu'elle puisse servir à imputer d'autres colonnes ou être elle même imputée)\n",
    "\n",
    "---"
   ]
  },
  {
   "cell_type": "markdown",
   "metadata": {},
   "source": [
    "## `circonference_cm`"
   ]
  },
  {
   "cell_type": "code",
   "execution_count": 70,
   "metadata": {},
   "outputs": [
    {
     "data": {
      "text/plain": [
       "count   200137.00\n",
       "mean        83.38\n",
       "std        673.19\n",
       "min          0.00\n",
       "25%         30.00\n",
       "50%         70.00\n",
       "75%        115.00\n",
       "max     250255.00\n",
       "Name: circonference_cm, dtype: float64"
      ]
     },
     "execution_count": 70,
     "metadata": {},
     "output_type": "execute_result"
    }
   ],
   "source": [
    "pd.set_option('float_format', '{:.2f}'.format)\n",
    "data['circonference_cm'].describe()"
   ]
  },
  {
   "cell_type": "markdown",
   "metadata": {},
   "source": [
    "On a donc visiblement des mesures de circonférences des troncs d'arbres en cm.\n",
    "\n",
    "La moyenne est à 83cm et la plupart (75%) des arbres ont visiblement une circonférence de tronc inférieur ou égale à 115 cm.\n",
    "\n",
    "Cependant, on note la présence de valeurs problèmatiques; le minimum est de 0 et le maximum est de 250255 cm. Il conviendrait donc de supprimer les outliers avec une technique appropriée (par multiple de quantile ou par KNN). [[Voir la section sur la suppresion de valeurs aberrantes](#P02_outliers)]"
   ]
  },
  {
   "cell_type": "markdown",
   "metadata": {},
   "source": [
    "#### Vérifions si il en manque."
   ]
  },
  {
   "cell_type": "code",
   "execution_count": 71,
   "metadata": {},
   "outputs": [
    {
     "data": {
      "text/plain": [
       "0"
      ]
     },
     "execution_count": 71,
     "metadata": {},
     "output_type": "execute_result"
    }
   ],
   "source": [
    "data['circonference_cm'].isnull().sum()"
   ]
  },
  {
   "cell_type": "markdown",
   "metadata": {},
   "source": [
    "> **circonference_cm:** [int] > **[int64]**<br>\n",
    "la circonférence de l'arbre (en centimètres).\n",
    "\n",
    "> `Recommandation:` Il convient de garder cette colonne, mais elle doit être traitée pour supprimer ou imputer les valeurs aberrantes.\n",
    "\n",
    "---"
   ]
  },
  {
   "cell_type": "markdown",
   "metadata": {},
   "source": [
    "## `hauteur_m`"
   ]
  },
  {
   "cell_type": "code",
   "execution_count": 72,
   "metadata": {},
   "outputs": [
    {
     "data": {
      "text/plain": [
       "count   200137.00\n",
       "mean        13.11\n",
       "std       1971.22\n",
       "min          0.00\n",
       "25%          5.00\n",
       "50%          8.00\n",
       "75%         12.00\n",
       "max     881818.00\n",
       "Name: hauteur_m, dtype: float64"
      ]
     },
     "execution_count": 72,
     "metadata": {},
     "output_type": "execute_result"
    }
   ],
   "source": [
    "pd.set_option('float_format', '{:.2f}'.format)\n",
    "data['hauteur_m'].describe()"
   ]
  },
  {
   "cell_type": "markdown",
   "metadata": {},
   "source": [
    "On a donc visiblement des mesures de hauteur des arbres en mètres.\n",
    "\n",
    "La moyenne est à environ 13 mètres et la plupart (75%) des arbres ont visiblement une hauteur inférieur ou égale à 12 mètres.\n",
    "\n",
    "Cependant, on note la présence de valeurs problèmatiques; le minimum est de 0 et le maximum est de 881818 cm. Il conviendrait donc de supprimer les outliers avec une technique appropriée (par multiple de quantile ou par KNN). [[Voir la section sur la suppresion de valeurs aberrantes](#P02_outliers)]"
   ]
  },
  {
   "cell_type": "markdown",
   "metadata": {},
   "source": [
    "#### Vérifions si il en manque."
   ]
  },
  {
   "cell_type": "code",
   "execution_count": 73,
   "metadata": {},
   "outputs": [
    {
     "data": {
      "text/plain": [
       "0"
      ]
     },
     "execution_count": 73,
     "metadata": {},
     "output_type": "execute_result"
    }
   ],
   "source": [
    "data['hauteur_m'].isnull().sum()"
   ]
  },
  {
   "cell_type": "markdown",
   "metadata": {},
   "source": [
    "> **hauteur_m:** [int] > **[int64]**<br>\n",
    "la hauteur de l'arbre (en mètres).\n",
    "\n",
    "> `Recommandation:` Il convient de garder cette colonne, mais elle doit être traitée pour supprimer ou imputer les valeurs aberrantes.\n",
    "\n",
    "---"
   ]
  },
  {
   "cell_type": "markdown",
   "metadata": {},
   "source": [
    "## `stade_developpement`"
   ]
  },
  {
   "cell_type": "markdown",
   "metadata": {},
   "source": [
    "> **stade_developpement:** [text] > **[object]**<br>\n",
    "Le stade de développpement de l'arbre; Jeune, Jeune Adulte, Adulte, Mature<br>"
   ]
  },
  {
   "cell_type": "markdown",
   "metadata": {},
   "source": [
    "## `remarquable`"
   ]
  },
  {
   "cell_type": "markdown",
   "metadata": {},
   "source": [
    "> **remarquable:** [text] > **[float64]** > [bool]<br>\n",
    "indique si l'arbre à quelque chose de remarquable ou non.<br>\n",
    "Un arbre remarquable se distingue par sa singularité, sa morphologie, son identité ou encore son rôle social. Cette distinction lui permet d’entrer au panthéon du patrimoine naturel, culturel ou paysager.<br>"
   ]
  },
  {
   "cell_type": "markdown",
   "metadata": {},
   "source": [
    "## `geo_point_2d_a`"
   ]
  },
  {
   "cell_type": "markdown",
   "metadata": {},
   "source": [
    "> **geo_point_2d_a:** [geo_point_2d] > **[float64]**<br>\n",
    "la latitude de l'emplacement de l'arbre."
   ]
  },
  {
   "cell_type": "markdown",
   "metadata": {},
   "source": [
    "## `geo_point_2d_b`"
   ]
  },
  {
   "cell_type": "markdown",
   "metadata": {},
   "source": [
    "> **geo_point_2d_b:** [geo_point_2d] > **[float64]**<br>\n",
    "la longitude de l'emplacement de l'arbre."
   ]
  },
  {
   "cell_type": "markdown",
   "metadata": {},
   "source": [
    "## En résumé\n",
    "\n",
    "> **id:** [int] > [int64]<br>\n",
    "l'identifiant de l'arbre dans le jeu de donnée.\n",
    "\n",
    "> **type_emplacement:** [text] > [object]<br>\n",
    "le type d'emplacement (Arbres, Buissons, Fleurs...)\n",
    "Mais toutes les lignes de cette colonne ont pour valeur 'Arbre'.\n",
    "\n",
    "> **domanialite:** [text] > [object]<br>\n",
    "le type de lieu auquel appartient l'arbre.\n",
    "\n",
    "> **arrondissement:** [text] > [object]<br>\n",
    "l'arrondissement dans lequel se trouve l'arbre. Il en existe donc 25 au total.\n",
    "\n",
    "> **complement_addresse:** [text] > [object]<br>\n",
    "des informations supplémentaires pour faciliter la localisation de l'arbre; un numéro de rue, un point de repère ...\n",
    "\n",
    "> **numero:**[text] > [float64]<br>\n",
    "le numéro de rue auquel se trouve l'arbre.<br>\n",
    "Mais toutes les lignes sont vides.\n",
    "\n",
    "> **lieu:** [text] > [object]<br>\n",
    "l'adresse à laquelle on peut trouver l'arbre.<br>\n",
    "Le format peut varier.\n",
    "\n",
    "> **id_emplacement:** [text] > [object]<br>\n",
    "l'identifiant de l'emplacement.\n",
    "\n",
    "> **libelle_francais:** [text] > [object]<br>\n",
    "le nom commun en Français, de l'espèce de l'arbre.\n",
    "\n",
    "> **genre:** [text] > [object]<br>\n",
    "le genre de l'arbre.<br>\n",
    "Le genre étant un ensemble d'espèces ayant en commun plusieurs caractères similaires.\n",
    "    \n",
    "> **espece:** [text] > [object]<br>\n",
    "le nom scientifique de l'espèce de l'arbre.\n",
    "\n",
    "> **variete:**> [text] > [object]<br>\n",
    "la varité de l'arbre.<br>\n",
    "Le terme variété vient différencier les plantes d’une même espèce.\n",
    "\n",
    "> **circonference_cm:** [int] > [int64]<br>\n",
    "la circonférence de l'arbre (en centimètres).\n",
    "\n",
    "> **hauteur_m:** [int] > [int64]<br>\n",
    "la hauteur de l'arbre (en mètres).\n",
    "\n",
    "> **stade_developpement:** [text] > [object]<br>\n",
    "Le stade de développpement de l'arbre; Jeune, Jeune Adulte, Adulte, Mature\n",
    "\n",
    "> **remarquable:** [text] > [float64] > [bool]<br>\n",
    "indique si l'arbre à quelque chose de remarquable *(singularité, morphologie, identité, rôle social)* ou non.\n",
    "\n",
    "> **geo_point_2d_a:** [geo_point_2d] > [float64]<br>\n",
    "la latitude de l'emplacement de l'arbre.\n",
    "\n",
    "> **geo_point_2d_b:** [geo_point_2d] > [float64]<br>\n",
    "la longitude de l'emplacement de l'arbre."
   ]
  },
  {
   "cell_type": "markdown",
   "metadata": {},
   "source": [
    "## Les variables à retenir\n",
    "\n",
    ">> ???"
   ]
  },
  {
   "cell_type": "code",
   "execution_count": null,
   "metadata": {},
   "outputs": [],
   "source": [
    "vars_quantitatives = ['circonference_cm', 'hauteur_m', 'geo_point_2d_a', 'geo_point_2d_b']\n",
    "vars_qualitatives = ['']"
   ]
  },
  {
   "cell_type": "markdown",
   "metadata": {},
   "source": [
    "# Nettoyage des données <a class=\"anchor\" id=\"P01_nettoyage\"></a>"
   ]
  },
  {
   "cell_type": "code",
   "execution_count": null,
   "metadata": {},
   "outputs": [],
   "source": [
    "data_clean = data.copy()"
   ]
  },
  {
   "cell_type": "markdown",
   "metadata": {},
   "source": [
    "## Suppression des colonnes inutiles"
   ]
  },
  {
   "cell_type": "code",
   "execution_count": null,
   "metadata": {},
   "outputs": [],
   "source": [
    "data_clean = data_clean.drop(['type_emplacement', 'numero'], axis='columns')"
   ]
  },
  {
   "cell_type": "code",
   "execution_count": null,
   "metadata": {},
   "outputs": [],
   "source": [
    "data_clean.head(3)"
   ]
  },
  {
   "cell_type": "markdown",
   "metadata": {},
   "source": [
    "## Renommage des colonnes"
   ]
  },
  {
   "cell_type": "code",
   "execution_count": null,
   "metadata": {},
   "outputs": [],
   "source": [
    "data_clean = data_clean.rename(columns={'geo_point_2d_a':'latitude', 'geo_point_2d_b':'longitude'})\n",
    "vars_quantitatives = ['circonference_cm', 'hauteur_m', 'latitude', 'longitude']"
   ]
  },
  {
   "cell_type": "markdown",
   "metadata": {},
   "source": [
    "## Détection des valeurs aberrantes <a class=\"anchor\" id=\"P02_outliers\"></a>"
   ]
  },
  {
   "cell_type": "code",
   "execution_count": null,
   "metadata": {},
   "outputs": [],
   "source": [
    "fig = plt.figure(figsize =(15, 10))\n",
    "\n",
    "for i, v in enumerate(vars_quantitatives):\n",
    "    ax = plt.subplot(2, 2, i+1)\n",
    "    if(i < 2):\n",
    "        ax.set_yscale('log')\n",
    "    ax.boxplot(data_clean[v])\n",
    "    plt.title(v)\n",
    "\n",
    "plt.show()"
   ]
  },
  {
   "cell_type": "code",
   "execution_count": null,
   "metadata": {},
   "outputs": [],
   "source": [
    "data_clean[vars_quantitatives].describe().T"
   ]
  },
  {
   "cell_type": "markdown",
   "metadata": {},
   "source": [
    "#### circonference_cm\n",
    "Les valeurs `min` (0 cm) et `max` (250255 cm) ne sont pas logiques.<br>\n",
    "Cette idée est renforcée par le fait que 75% des arbres mesurent 115 cm ou moins de circonférence.\n",
    "\n",
    "#### hauteur_m\n",
    "Les valeurs `min` (0 m) et `max` (881818 m) ne sont pas logiques.<br>\n",
    "Cette idée est renforcée par le fait que 75% des arbres mesurent 12 mètres ou moins de hauteur.\n",
    "\n",
    "#### latitude\n",
    "Les valeurs ne semblent pas aberrantes.\n",
    "\n",
    "#### longitude\n",
    "Les valeurs ne semblent pas aberrantes.\n",
    "\n",
    "**Il convient donc de supprimer les valeurs aberrantes sur `circonference_cm` et `hauteur_m`.**\n",
    "\n",
    "Nous allons donc baser notre selection sur un multiple des quantiles de la distribution, en essayant de faire coller les valeurs maximum à celles de la réalité.\n",
    "\n",
    "Q3 + 1.5*(Q3-Q1)"
   ]
  },
  {
   "cell_type": "markdown",
   "metadata": {},
   "source": [
    "#### Méthode habituelle\n",
    "On considère en général que les outliers sont les points qui tombent en dehors de valeurs qui valent 1.5 x l'écart inter-quantiles.<br> (i.e.: [Identifier les valeurs aberrantes dans une série statistique](https://fr.khanacademy.org/math/statistics-probability/summarizing-quantitative-data/box-whisker-plots/v/judging-outliers-in-a-dataset))\n",
    "- ainsi les valeurs max valent `Q3+1.5*(Q3-Q1)`\n",
    "- et les valeurs min valent `Q1-1.5*(Q3-Q1)`"
   ]
  },
  {
   "cell_type": "code",
   "execution_count": null,
   "metadata": {},
   "outputs": [],
   "source": [
    "# On calcul les premier et troisième quantiles, puis l'écart inter-quantiles\n",
    "Q1 = data_clean[['circonference_cm','hauteur_m']].quantile(0.25)\n",
    "Q3 = data_clean[['circonference_cm','hauteur_m']].quantile(0.75)\n",
    "EI = Q3-Q1\n",
    "\n",
    "# Puis on calcul les valeurs maximum et minimum\n",
    "V_max = Q3 + 1.5*EI\n",
    "V_min = Q1 - 1.5*EI\n",
    "\n",
    "print(f\"MIN:\\n{V_min}\\n\")\n",
    "print(f\"MAX:\\n{V_max}\")"
   ]
  },
  {
   "cell_type": "markdown",
   "metadata": {},
   "source": [
    "Pour les valeurs `min`, on constate que ce n'est pas cohérant et qu'il vaudrait mieux prendre 0 ou une valeur légèrement supérieure.\n",
    "\n",
    "Pour les valeurs `max`, on constate que c'est totalement cohérant. Mais si l'on s'en réfère aux deux articles suivants ([Article 1](https://agriculture.gouv.fr/le-plus-grand-arbre-de-paris-veille-sur-le-78-rue-de-varenne) et [Article 2](https://www.pariszigzag.fr/secret/lieux-insolites/arbres-remarquables-paris)) les valeurs maximum attendues sont d'environ **800cm de circonférence et 30m de hauteur**.\n",
    "\n",
    "Essayons donc de trouver un multiple des quantiles de la distribution qui soient plus représentatif des valeurs réelles connues.\n",
    "\n",
    "#### Méthode basée sur des valeurs réelles connues"
   ]
  },
  {
   "cell_type": "code",
   "execution_count": null,
   "metadata": {},
   "outputs": [],
   "source": [
    "# On cherche une fraction de quantile qui donne un résultat proche des 800cm de circonference max attendue\n",
    "V_max.circonference_cm = data_clean.circonference_cm.quantile(0.9996)\n",
    "V_max.circonference_cm"
   ]
  },
  {
   "cell_type": "code",
   "execution_count": null,
   "metadata": {},
   "outputs": [],
   "source": [
    "# On cherche une fraction de quantile qui donne un résultat proche des 30m de hauteur max attendue\n",
    "V_max.hauteur_m = data_clean.hauteur_m.quantile(0.997)\n",
    "V_max.hauteur_m"
   ]
  },
  {
   "cell_type": "code",
   "execution_count": null,
   "metadata": {},
   "outputs": [],
   "source": [
    "# Et pour les valeurs `min` on peut simplement retirer tout ce qui vaut 0 ou moins.\n",
    "V_min.circonference_cm = 0\n",
    "V_min.hauteur_m = 0"
   ]
  },
  {
   "cell_type": "code",
   "execution_count": null,
   "metadata": {},
   "outputs": [],
   "source": [
    "print(f\"MIN:\\n{V_min}\\n\")\n",
    "print(f\"MAX:\\n{V_max}\")"
   ]
  },
  {
   "cell_type": "markdown",
   "metadata": {},
   "source": [
    "#### A présent on selectionne uniquement les lignes qui respectent les valeurs `min` et `max` obtenues."
   ]
  },
  {
   "cell_type": "code",
   "execution_count": null,
   "metadata": {},
   "outputs": [],
   "source": [
    "data_clean = data_clean[data_clean.circonference_cm <= V_max.circonference_cm]\n",
    "data_clean = data_clean[data_clean.circonference_cm > V_min.circonference_cm]\n",
    "data_clean.shape"
   ]
  },
  {
   "cell_type": "code",
   "execution_count": null,
   "metadata": {},
   "outputs": [],
   "source": [
    "data_clean = data_clean[data_clean.hauteur_m <= V_max.hauteur_m]\n",
    "data_clean = data_clean[data_clean.hauteur_m > V_min.hauteur_m]\n",
    "data_clean.shape"
   ]
  },
  {
   "cell_type": "code",
   "execution_count": null,
   "metadata": {},
   "outputs": [],
   "source": [
    "data_clean[vars_quantitatives].describe().T"
   ]
  },
  {
   "cell_type": "code",
   "execution_count": null,
   "metadata": {},
   "outputs": [],
   "source": [
    "fig = plt.figure(figsize =(15, 10))\n",
    "\n",
    "for i, v in enumerate(vars_quantitatives[:2]):\n",
    "    ax = plt.subplot(2, 2, i+1)\n",
    "    # ax.set_yscale('log')\n",
    "    ax.boxplot(data_clean[v])\n",
    "    plt.title(v)\n",
    "\n",
    "plt.show()"
   ]
  },
  {
   "cell_type": "markdown",
   "metadata": {},
   "source": [
    "## Imputation des valeurs manquantes\n",
    "valeurs fixe : médiane/moyenne, mode, stratégie intelligente."
   ]
  },
  {
   "cell_type": "code",
   "execution_count": null,
   "metadata": {},
   "outputs": [],
   "source": [
    "#TODO"
   ]
  },
  {
   "cell_type": "markdown",
   "metadata": {},
   "source": [
    "## Valeurs uniques"
   ]
  },
  {
   "cell_type": "code",
   "execution_count": null,
   "metadata": {},
   "outputs": [],
   "source": [
    "for c in data.columns:\n",
    "    print(f\"{c:20}\\t{data[c].nunique():7}\")"
   ]
  },
  {
   "cell_type": "markdown",
   "metadata": {},
   "source": [
    "# 3. Démarche méthodologique d'analyse de données <a class=\"anchor\" id=\"P03\"></a>"
   ]
  },
  {
   "cell_type": "code",
   "execution_count": null,
   "metadata": {},
   "outputs": [],
   "source": []
  },
  {
   "cell_type": "markdown",
   "metadata": {},
   "source": [
    "---\n",
    "---\n",
    "---\n",
    "---"
   ]
  },
  {
   "cell_type": "markdown",
   "metadata": {},
   "source": [
    "### Axes possibles ?\n",
    "\n",
    "- Définir les outils selon l'action et le profil d'arbre concerné\n",
    "- Définir les traitements chimiques (insecticides, fongicides) selon la répartition des espèces\n",
    "- Définir des tournées d'arrosage pour les jeunes arbres\n",
    "- Définir un plan de contrôle des arbres qui semblent présenter des anomalies (stade_developement vs hauteur & circonference pour chaque espèce/genre donné)\n"
   ]
  },
  {
   "cell_type": "code",
   "execution_count": null,
   "metadata": {},
   "outputs": [],
   "source": []
  },
  {
   "cell_type": "code",
   "execution_count": null,
   "metadata": {},
   "outputs": [],
   "source": []
  },
  {
   "cell_type": "code",
   "execution_count": null,
   "metadata": {},
   "outputs": [],
   "source": []
  },
  {
   "cell_type": "code",
   "execution_count": null,
   "metadata": {},
   "outputs": [],
   "source": [
    "figure = plt.figure(figsize=[15,15])\n",
    "data_std = data[['id', 'hauteur_m', 'circonference_cm']]\n",
    "for i,c in enumerate(data_std.columns[:-1]):\n",
    "    aplt.subplot(4,3,i+1)\n",
    "    #plt.hist(data[c], bins=50, alpha=.75)\n",
    "    #plt.plot(data[c])\n",
    "    sns.kdeplot(data_std[c])\n",
    "    plt.ylabel(\"Number of samples\")\n",
    "    plt.xlabel(c)\n",
    "\n",
    "plt.show()"
   ]
  },
  {
   "cell_type": "code",
   "execution_count": null,
   "metadata": {},
   "outputs": [],
   "source": [
    "figure = plt.figure(figsize=[15,3])\n",
    "sns.kdeplot(data['hauteur_m'])\n",
    "plt.ylabel(\"Number of samples\")\n",
    "plt.xlabel(\"hauteur_m\")\n",
    "plt.show()"
   ]
  },
  {
   "cell_type": "code",
   "execution_count": null,
   "metadata": {},
   "outputs": [],
   "source": [
    "figure = plt.figure(figsize=[15,3])\n",
    "sns.kdeplot(data['hauteur_m'])\n",
    "plt.ylabel(\"Number of samples\")\n",
    "plt.xlabel(\"hauteur_m\")\n",
    "plt.xlim([0, 200])\n",
    "plt.show()"
   ]
  },
  {
   "cell_type": "code",
   "execution_count": null,
   "metadata": {},
   "outputs": [],
   "source": [
    "data['hauteur_m'].describe()"
   ]
  },
  {
   "cell_type": "code",
   "execution_count": null,
   "metadata": {},
   "outputs": [],
   "source": [
    "figure = plt.figure(figsize=[15,3])\n",
    "sns.histplot(data['hauteur_m'])\n",
    "plt.ylabel(\"Number of samples\")\n",
    "plt.xlabel(\"hauteur_m\")\n",
    "plt.xlim([0, 200.0])\n",
    "plt.show()"
   ]
  },
  {
   "cell_type": "markdown",
   "metadata": {},
   "source": [
    "# 4. Synthèse de l'analyse de données<a class=\"anchor\" id=\"P04\"></a>"
   ]
  },
  {
   "cell_type": "code",
   "execution_count": null,
   "metadata": {},
   "outputs": [],
   "source": []
  },
  {
   "cell_type": "code",
   "execution_count": null,
   "metadata": {},
   "outputs": [],
   "source": []
  },
  {
   "cell_type": "markdown",
   "metadata": {},
   "source": [
    "# Nettoyage du jeu de données\n",
    "\n",
    "Nous allons vérifier les erreurs suivantes:\n",
    "- **valeurs manquantes** *( cellule vide )*\n",
    "- **doublons** *( plusieurs entrées considérées comme uniques )*\n",
    "- **outliers** *( valeur atypique / aberrante )*\n",
    "- **contenu multiple** *( plusieurs contenus dans une cellule )*\n",
    "- **erreur lexicale** *( pas dans une liste logique et resteinte )*\n",
    "- **erreur d'irrégularité** *( mauvais format -- hors dates & heures )*\n",
    "- ~~**erreur de formatage** *( mauvais format -- dates & heures )*~~"
   ]
  },
  {
   "cell_type": "markdown",
   "metadata": {},
   "source": [
    "## Valeurs uniques"
   ]
  },
  {
   "cell_type": "code",
   "execution_count": null,
   "metadata": {},
   "outputs": [],
   "source": [
    "data.nunique()"
   ]
  },
  {
   "cell_type": "code",
   "execution_count": null,
   "metadata": {},
   "outputs": [],
   "source": [
    "data.arrondissement.unique()"
   ]
  },
  {
   "cell_type": "code",
   "execution_count": null,
   "metadata": {},
   "outputs": [],
   "source": [
    "data.remarquable.unique()"
   ]
  },
  {
   "cell_type": "code",
   "execution_count": null,
   "metadata": {},
   "outputs": [],
   "source": []
  },
  {
   "cell_type": "markdown",
   "metadata": {},
   "source": [
    "## Valeurs manquantes"
   ]
  },
  {
   "cell_type": "code",
   "execution_count": null,
   "metadata": {},
   "outputs": [],
   "source": [
    "data.isnull().sum()"
   ]
  },
  {
   "cell_type": "code",
   "execution_count": null,
   "metadata": {},
   "outputs": [],
   "source": [
    "from pandas_profiling import ProfileReport"
   ]
  },
  {
   "cell_type": "code",
   "execution_count": null,
   "metadata": {},
   "outputs": [],
   "source": [
    "ProfileReport(data)"
   ]
  },
  {
   "cell_type": "code",
   "execution_count": null,
   "metadata": {},
   "outputs": [],
   "source": []
  },
  {
   "cell_type": "code",
   "execution_count": null,
   "metadata": {},
   "outputs": [],
   "source": []
  },
  {
   "cell_type": "code",
   "execution_count": null,
   "metadata": {},
   "outputs": [],
   "source": []
  },
  {
   "cell_type": "code",
   "execution_count": null,
   "metadata": {},
   "outputs": [],
   "source": []
  },
  {
   "cell_type": "code",
   "execution_count": null,
   "metadata": {
    "scrolled": true
   },
   "outputs": [],
   "source": [
    "data.describe(include='all').T"
   ]
  },
  {
   "cell_type": "raw",
   "metadata": {},
   "source": [
    "quantitative_vars = ['id','circonference_cm','hauteur_m', 'geo_point_2d_a', 'geo_point_2d_b', 'numero', 'remarquable']\n",
    "qualitative_vars = ['type_emplacement', 'domanialite', 'arrondissement', 'complement_addresse', 'lieu', 'id_emplacement', 'libelle_francais', 'genre', 'espece', 'variete', 'stade_developpement']"
   ]
  },
  {
   "cell_type": "raw",
   "metadata": {},
   "source": [
    "data[quantitative_vars].describe(include='all')"
   ]
  },
  {
   "cell_type": "raw",
   "metadata": {
    "scrolled": true
   },
   "source": [
    "data[qualitative_vars].describe(include='all').T"
   ]
  }
 ],
 "metadata": {
  "kernelspec": {
   "display_name": "venv",
   "language": "python",
   "name": "venv"
  },
  "language_info": {
   "codemirror_mode": {
    "name": "ipython",
    "version": 3
   },
   "file_extension": ".py",
   "mimetype": "text/x-python",
   "name": "python",
   "nbconvert_exporter": "python",
   "pygments_lexer": "ipython3",
   "version": "3.8.10"
  }
 },
 "nbformat": 4,
 "nbformat_minor": 4
}
